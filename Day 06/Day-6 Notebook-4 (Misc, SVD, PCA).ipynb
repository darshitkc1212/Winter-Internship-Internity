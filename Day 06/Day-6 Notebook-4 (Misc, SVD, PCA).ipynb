{
  "nbformat": 4,
  "nbformat_minor": 0,
  "metadata": {
    "colab": {
      "name": "Day-6 Notebook-4.ipynb",
      "provenance": [],
      "collapsed_sections": []
    },
    "kernelspec": {
      "name": "python3",
      "display_name": "Python 3"
    }
  },
  "cells": [
    {
      "cell_type": "code",
      "metadata": {
        "colab": {
          "base_uri": "https://localhost:8080/"
        },
        "id": "Y-ZsepqPsrP0",
        "outputId": "2c74b89b-a94e-43b5-ad38-910d02f934e2"
      },
      "source": [
        "pip install sympy"
      ],
      "execution_count": 1,
      "outputs": [
        {
          "output_type": "stream",
          "text": [
            "Requirement already satisfied: sympy in /usr/local/lib/python3.6/dist-packages (1.1.1)\n",
            "Requirement already satisfied: mpmath>=0.19 in /usr/local/lib/python3.6/dist-packages (from sympy) (1.1.0)\n"
          ],
          "name": "stdout"
        }
      ]
    },
    {
      "cell_type": "code",
      "metadata": {
        "id": "hbrFnYbnsrR1"
      },
      "source": [
        "from sympy import *"
      ],
      "execution_count": 3,
      "outputs": []
    },
    {
      "cell_type": "code",
      "metadata": {
        "colab": {
          "base_uri": "https://localhost:8080/"
        },
        "id": "4JKyOSbms173",
        "outputId": "9645a462-9bbf-4ee7-c2f1-5660b4eaa616"
      },
      "source": [
        "M = Matrix(([1,2,3,4],[5,6,7,8],[9,10,11,12],[13,14,15,16]))\r\n",
        "M "
      ],
      "execution_count": 4,
      "outputs": [
        {
          "output_type": "execute_result",
          "data": {
            "text/plain": [
              "Matrix([\n",
              "[ 1,  2,  3,  4],\n",
              "[ 5,  6,  7,  8],\n",
              "[ 9, 10, 11, 12],\n",
              "[13, 14, 15, 16]])"
            ]
          },
          "metadata": {
            "tags": []
          },
          "execution_count": 4
        }
      ]
    },
    {
      "cell_type": "code",
      "metadata": {
        "colab": {
          "base_uri": "https://localhost:8080/"
        },
        "id": "1xMvaWj7srUO",
        "outputId": "e67b5368-be04-44e9-93e9-fb22e24f1267"
      },
      "source": [
        "A = Matrix([[1,1,1],[1,1,3],[2,3,4]])\r\n",
        "Q, R = A.QRdecomposition()\r\n",
        "Q"
      ],
      "execution_count": 5,
      "outputs": [
        {
          "output_type": "execute_result",
          "data": {
            "text/plain": [
              "Matrix([\n",
              "[sqrt(6)/6, -sqrt(3)/3, -sqrt(2)/2],\n",
              "[sqrt(6)/6, -sqrt(3)/3,  sqrt(2)/2],\n",
              "[sqrt(6)/3,  sqrt(3)/3,          0]])"
            ]
          },
          "metadata": {
            "tags": []
          },
          "execution_count": 5
        }
      ]
    },
    {
      "cell_type": "code",
      "metadata": {
        "colab": {
          "base_uri": "https://localhost:8080/"
        },
        "id": "eXD1X0XasrWS",
        "outputId": "a9491eb6-4478-45aa-ec75-b2ddae217997"
      },
      "source": [
        "R"
      ],
      "execution_count": 6,
      "outputs": [
        {
          "output_type": "execute_result",
          "data": {
            "text/plain": [
              "Matrix([\n",
              "[sqrt(6), 4*sqrt(6)/3, 2*sqrt(6)],\n",
              "[      0,   sqrt(3)/3,         0],\n",
              "[      0,           0,   sqrt(2)]])"
            ]
          },
          "metadata": {
            "tags": []
          },
          "execution_count": 6
        }
      ]
    },
    {
      "cell_type": "code",
      "metadata": {
        "colab": {
          "base_uri": "https://localhost:8080/"
        },
        "id": "9gIPhpBlsrZS",
        "outputId": "f0a2322b-e946-4641-c076-0b7b925a66ee"
      },
      "source": [
        "Q*R"
      ],
      "execution_count": 7,
      "outputs": [
        {
          "output_type": "execute_result",
          "data": {
            "text/plain": [
              "Matrix([\n",
              "[1, 1, 1],\n",
              "[1, 1, 3],\n",
              "[2, 3, 4]])"
            ]
          },
          "metadata": {
            "tags": []
          },
          "execution_count": 7
        }
      ]
    },
    {
      "cell_type": "code",
      "metadata": {
        "colab": {
          "base_uri": "https://localhost:8080/"
        },
        "id": "Q8SAPFgpsrbY",
        "outputId": "ef43a27a-3e2a-45d1-afd5-19b22f724ec6"
      },
      "source": [
        "A = Matrix([ [2, 3, 5], [3, 6, 2], [8, 3, 6] ])\r\n",
        "x = Matrix(3,1,[3,7,5])\r\n",
        "b = A*x\r\n",
        "soln = A.LUsolve(b)\r\n",
        "soln"
      ],
      "execution_count": 8,
      "outputs": [
        {
          "output_type": "execute_result",
          "data": {
            "text/plain": [
              "Matrix([\n",
              "[3],\n",
              "[7],\n",
              "[5]])"
            ]
          },
          "metadata": {
            "tags": []
          },
          "execution_count": 8
        }
      ]
    },
    {
      "cell_type": "code",
      "metadata": {
        "id": "f60vfKZ9sreR"
      },
      "source": [
        "L = [Matrix([2,3,5]), Matrix([3,6,2]), Matrix([8,3,6])]\r\n",
        "out1 = GramSchmidt(L)\r\n",
        "out2 = GramSchmidt(L, True)"
      ],
      "execution_count": 9,
      "outputs": []
    },
    {
      "cell_type": "code",
      "metadata": {
        "colab": {
          "base_uri": "https://localhost:8080/"
        },
        "id": "G2B9i4nJsrgP",
        "outputId": "737af6c4-5761-404a-dbf6-e6449c5fdf21"
      },
      "source": [
        "out1"
      ],
      "execution_count": 10,
      "outputs": [
        {
          "output_type": "execute_result",
          "data": {
            "text/plain": [
              "[Matrix([\n",
              " [2],\n",
              " [3],\n",
              " [5]]), Matrix([\n",
              " [ 23/19],\n",
              " [ 63/19],\n",
              " [-47/19]]), Matrix([\n",
              " [ 1692/353],\n",
              " [-1551/706],\n",
              " [ -423/706]])]"
            ]
          },
          "metadata": {
            "tags": []
          },
          "execution_count": 10
        }
      ]
    },
    {
      "cell_type": "code",
      "metadata": {
        "colab": {
          "base_uri": "https://localhost:8080/"
        },
        "id": "v00EjYwCsrje",
        "outputId": "e403a1ae-0ac3-43eb-b43d-796c7459f0ca"
      },
      "source": [
        "out2"
      ],
      "execution_count": 11,
      "outputs": [
        {
          "output_type": "execute_result",
          "data": {
            "text/plain": [
              "[Matrix([\n",
              " [  sqrt(38)/19],\n",
              " [3*sqrt(38)/38],\n",
              " [5*sqrt(38)/38]]), Matrix([\n",
              " [ 23*sqrt(6707)/6707],\n",
              " [ 63*sqrt(6707)/6707],\n",
              " [-47*sqrt(6707)/6707]]), Matrix([\n",
              " [ 12*sqrt(706)/353],\n",
              " [-11*sqrt(706)/706],\n",
              " [ -3*sqrt(706)/706]])]"
            ]
          },
          "metadata": {
            "tags": []
          },
          "execution_count": 11
        }
      ]
    },
    {
      "cell_type": "code",
      "metadata": {
        "colab": {
          "base_uri": "https://localhost:8080/"
        },
        "id": "sIUJcY56tRqh",
        "outputId": "f2e994c6-5b9b-4638-a78e-4cdef51fbfbf"
      },
      "source": [
        "M = Matrix([[1, 2], [3, 4]])\r\n",
        "M.cofactor(0, 1)"
      ],
      "execution_count": 12,
      "outputs": [
        {
          "output_type": "execute_result",
          "data": {
            "text/plain": [
              "-3"
            ]
          },
          "metadata": {
            "tags": []
          },
          "execution_count": 12
        }
      ]
    },
    {
      "cell_type": "code",
      "metadata": {
        "colab": {
          "base_uri": "https://localhost:8080/"
        },
        "id": "naP3JUMAtTHk",
        "outputId": "9335fff5-c87f-4876-aae3-e2b31d7628b1"
      },
      "source": [
        "M.cofactor_matrix()"
      ],
      "execution_count": 13,
      "outputs": [
        {
          "output_type": "execute_result",
          "data": {
            "text/plain": [
              "Matrix([\n",
              "[ 4, -3],\n",
              "[-2,  1]])"
            ]
          },
          "metadata": {
            "tags": []
          },
          "execution_count": 13
        }
      ]
    },
    {
      "cell_type": "code",
      "metadata": {
        "colab": {
          "base_uri": "https://localhost:8080/"
        },
        "id": "RXszMZEOtTJY",
        "outputId": "5022d16a-c48c-4da9-a404-ce674431f558"
      },
      "source": [
        "M = Matrix([[1, 2, 3], [4, 5, 6], [7, 8, 9]])\r\n",
        "M.minor(1, 1)"
      ],
      "execution_count": 14,
      "outputs": [
        {
          "output_type": "execute_result",
          "data": {
            "text/plain": [
              "-12"
            ]
          },
          "metadata": {
            "tags": []
          },
          "execution_count": 14
        }
      ]
    },
    {
      "cell_type": "code",
      "metadata": {
        "colab": {
          "base_uri": "https://localhost:8080/"
        },
        "id": "QFMIXyRCtTMM",
        "outputId": "f55a511a-6f57-4a5f-9004-e0b0b0669455"
      },
      "source": [
        "M.minor_submatrix(1, 1)"
      ],
      "execution_count": 16,
      "outputs": [
        {
          "output_type": "execute_result",
          "data": {
            "text/plain": [
              "Matrix([\n",
              "[1, 3],\n",
              "[7, 9]])"
            ]
          },
          "metadata": {
            "tags": []
          },
          "execution_count": 16
        }
      ]
    },
    {
      "cell_type": "code",
      "metadata": {
        "colab": {
          "base_uri": "https://localhost:8080/"
        },
        "id": "ba_5vj6qtZ1w",
        "outputId": "0b1dd902-f632-4a89-ec71-48fd257496b4"
      },
      "source": [
        "M = Matrix([[1, 2], [3, 4]])\r\n",
        "M.echelon_form()"
      ],
      "execution_count": 17,
      "outputs": [
        {
          "output_type": "execute_result",
          "data": {
            "text/plain": [
              "Matrix([\n",
              "[1,  2],\n",
              "[0, -2]])"
            ]
          },
          "metadata": {
            "tags": []
          },
          "execution_count": 17
        }
      ]
    },
    {
      "cell_type": "code",
      "metadata": {
        "colab": {
          "base_uri": "https://localhost:8080/"
        },
        "id": "UarE-DeEtZ_R",
        "outputId": "02c42b22-9898-47ff-96d3-b60f46b5feb6"
      },
      "source": [
        "n = Matrix(3, 3, range(1, 10))\r\n",
        "n.rank()"
      ],
      "execution_count": 18,
      "outputs": [
        {
          "output_type": "execute_result",
          "data": {
            "text/plain": [
              "2"
            ]
          },
          "metadata": {
            "tags": []
          },
          "execution_count": 18
        }
      ]
    },
    {
      "cell_type": "code",
      "metadata": {
        "colab": {
          "base_uri": "https://localhost:8080/"
        },
        "id": "k6du-X3qtaBW",
        "outputId": "86c21776-a510-46e8-b323-b215eae7f306"
      },
      "source": [
        "from sympy.abc import x\r\n",
        "m = Matrix([[1, 2], [x, 1 - 1/x]])\r\n",
        "m.rref()"
      ],
      "execution_count": 20,
      "outputs": [
        {
          "output_type": "execute_result",
          "data": {
            "text/plain": [
              "(Matrix([\n",
              " [1, 0],\n",
              " [0, 1]]), (0, 1))"
            ]
          },
          "metadata": {
            "tags": []
          },
          "execution_count": 20
        }
      ]
    },
    {
      "cell_type": "code",
      "metadata": {
        "colab": {
          "base_uri": "https://localhost:8080/"
        },
        "id": "VxL3TfbRtaEZ",
        "outputId": "59c92475-317a-484a-9bb5-047392b56f32"
      },
      "source": [
        "rref_matrix, rref_pivots = m.rref()\r\n",
        "rref_matrix"
      ],
      "execution_count": 21,
      "outputs": [
        {
          "output_type": "execute_result",
          "data": {
            "text/plain": [
              "Matrix([\n",
              "[1, 0],\n",
              "[0, 1]])"
            ]
          },
          "metadata": {
            "tags": []
          },
          "execution_count": 21
        }
      ]
    },
    {
      "cell_type": "code",
      "metadata": {
        "colab": {
          "base_uri": "https://localhost:8080/"
        },
        "id": "6jM4pp0quErP",
        "outputId": "dd6d78ff-52dc-43ad-b478-84cbfbf2741f"
      },
      "source": [
        "rref_pivots"
      ],
      "execution_count": 22,
      "outputs": [
        {
          "output_type": "execute_result",
          "data": {
            "text/plain": [
              "(0, 1)"
            ]
          },
          "metadata": {
            "tags": []
          },
          "execution_count": 22
        }
      ]
    },
    {
      "cell_type": "code",
      "metadata": {
        "colab": {
          "base_uri": "https://localhost:8080/"
        },
        "id": "gNQVeJGQuEuO",
        "outputId": "bc813edc-468e-4062-e7c5-0e42703ebace"
      },
      "source": [
        "M = Matrix(3, 3, [1, 3, 0, -2, -6, 0, 3, 9, 6])\r\n",
        "M"
      ],
      "execution_count": 23,
      "outputs": [
        {
          "output_type": "execute_result",
          "data": {
            "text/plain": [
              "Matrix([\n",
              "[ 1,  3, 0],\n",
              "[-2, -6, 0],\n",
              "[ 3,  9, 6]])"
            ]
          },
          "metadata": {
            "tags": []
          },
          "execution_count": 23
        }
      ]
    },
    {
      "cell_type": "code",
      "metadata": {
        "colab": {
          "base_uri": "https://localhost:8080/"
        },
        "id": "K9_r-oNzuExF",
        "outputId": "2e0e3592-1202-4da8-d50e-ecd48238ae35"
      },
      "source": [
        "M.columnspace()"
      ],
      "execution_count": 24,
      "outputs": [
        {
          "output_type": "execute_result",
          "data": {
            "text/plain": [
              "[Matrix([\n",
              " [ 1],\n",
              " [-2],\n",
              " [ 3]]), Matrix([\n",
              " [0],\n",
              " [0],\n",
              " [6]])]"
            ]
          },
          "metadata": {
            "tags": []
          },
          "execution_count": 24
        }
      ]
    },
    {
      "cell_type": "code",
      "metadata": {
        "colab": {
          "base_uri": "https://localhost:8080/"
        },
        "id": "OAUapTbVuEz_",
        "outputId": "076c2936-0605-4573-ac31-8976fe0a5475"
      },
      "source": [
        "M = Matrix(3, 3, [1, 3, 0, -2, -6, 0, 3, 9, 6])\r\n",
        "M"
      ],
      "execution_count": 25,
      "outputs": [
        {
          "output_type": "execute_result",
          "data": {
            "text/plain": [
              "Matrix([\n",
              "[ 1,  3, 0],\n",
              "[-2, -6, 0],\n",
              "[ 3,  9, 6]])"
            ]
          },
          "metadata": {
            "tags": []
          },
          "execution_count": 25
        }
      ]
    },
    {
      "cell_type": "code",
      "metadata": {
        "colab": {
          "base_uri": "https://localhost:8080/"
        },
        "id": "3o-YF0KpuE3E",
        "outputId": "4aa3c42f-0e44-404d-f744-8f954a107883"
      },
      "source": [
        "M.rowspace()"
      ],
      "execution_count": 26,
      "outputs": [
        {
          "output_type": "execute_result",
          "data": {
            "text/plain": [
              "[Matrix([[1, 3, 0]]), Matrix([[0, 0, 6]])]"
            ]
          },
          "metadata": {
            "tags": []
          },
          "execution_count": 26
        }
      ]
    },
    {
      "cell_type": "code",
      "metadata": {
        "colab": {
          "base_uri": "https://localhost:8080/"
        },
        "id": "O_wnGf4FtTPA",
        "outputId": "eb3b48d5-c198-4703-f8e1-322fe8439713"
      },
      "source": [
        "M = Matrix(3, 3, [1, 3, 0, -2, -6, 0, 3, 9, 6])\r\n",
        "M"
      ],
      "execution_count": 27,
      "outputs": [
        {
          "output_type": "execute_result",
          "data": {
            "text/plain": [
              "Matrix([\n",
              "[ 1,  3, 0],\n",
              "[-2, -6, 0],\n",
              "[ 3,  9, 6]])"
            ]
          },
          "metadata": {
            "tags": []
          },
          "execution_count": 27
        }
      ]
    },
    {
      "cell_type": "code",
      "metadata": {
        "colab": {
          "base_uri": "https://localhost:8080/"
        },
        "id": "J8izJzT6uUCS",
        "outputId": "7252f190-2380-4e0e-8fb6-7d5c181b652c"
      },
      "source": [
        "M.nullspace()"
      ],
      "execution_count": 28,
      "outputs": [
        {
          "output_type": "execute_result",
          "data": {
            "text/plain": [
              "[Matrix([\n",
              " [-3],\n",
              " [ 1],\n",
              " [ 0]])]"
            ]
          },
          "metadata": {
            "tags": []
          },
          "execution_count": 28
        }
      ]
    },
    {
      "cell_type": "code",
      "metadata": {
        "colab": {
          "base_uri": "https://localhost:8080/"
        },
        "id": "lWWHTjCJuUET",
        "outputId": "aad94dbc-4d08-4e2c-84a9-498e0ea24296"
      },
      "source": [
        "v = [Matrix([1, I]), Matrix([1, -I])]\r\n",
        "Matrix.orthogonalize(*v)"
      ],
      "execution_count": 29,
      "outputs": [
        {
          "output_type": "execute_result",
          "data": {
            "text/plain": [
              "[Matrix([\n",
              " [1],\n",
              " [I]]), Matrix([\n",
              " [zoo],\n",
              " [zoo]])]"
            ]
          },
          "metadata": {
            "tags": []
          },
          "execution_count": 29
        }
      ]
    },
    {
      "cell_type": "code",
      "metadata": {
        "id": "x3vkT4ybuUG1"
      },
      "source": [
        "A = Matrix([[1, 0], [0, 1]])\r\n",
        "#A.is_positive_definite"
      ],
      "execution_count": 33,
      "outputs": []
    },
    {
      "cell_type": "code",
      "metadata": {
        "id": "-WXtufBTuUJF"
      },
      "source": [
        "#A.is_positive_semidefinite"
      ],
      "execution_count": 34,
      "outputs": []
    },
    {
      "cell_type": "code",
      "metadata": {
        "colab": {
          "base_uri": "https://localhost:8080/"
        },
        "id": "ds-RuBdkuUME",
        "outputId": "cf6accd2-fb1b-49c1-f339-3e7f709f83de"
      },
      "source": [
        "from numpy import array\r\n",
        "from scipy.linalg import svd\r\n",
        "# Singular Value Decomposition - SVD\r\n",
        "A = array([[1, 2], [3, 4], [5, 6]])\r\n",
        "print(A)"
      ],
      "execution_count": 35,
      "outputs": [
        {
          "output_type": "stream",
          "text": [
            "[[1 2]\n",
            " [3 4]\n",
            " [5 6]]\n"
          ],
          "name": "stdout"
        }
      ]
    },
    {
      "cell_type": "code",
      "metadata": {
        "colab": {
          "base_uri": "https://localhost:8080/"
        },
        "id": "mUucgE56vvv1",
        "outputId": "549703e6-03f8-4cbe-d64f-0e6315e79809"
      },
      "source": [
        "U, s, VT = svd(A)\r\n",
        "print(U)"
      ],
      "execution_count": 38,
      "outputs": [
        {
          "output_type": "stream",
          "text": [
            "[[-0.2298477   0.88346102  0.40824829]\n",
            " [-0.52474482  0.24078249 -0.81649658]\n",
            " [-0.81964194 -0.40189603  0.40824829]]\n"
          ],
          "name": "stdout"
        }
      ]
    },
    {
      "cell_type": "code",
      "metadata": {
        "colab": {
          "base_uri": "https://localhost:8080/"
        },
        "id": "DTLPY8kovytd",
        "outputId": "c1683ed4-44f4-42ab-ceb4-eb1fea2b4866"
      },
      "source": [
        "print(s)"
      ],
      "execution_count": 39,
      "outputs": [
        {
          "output_type": "stream",
          "text": [
            "[9.52551809 0.51430058]\n"
          ],
          "name": "stdout"
        }
      ]
    },
    {
      "cell_type": "code",
      "metadata": {
        "colab": {
          "base_uri": "https://localhost:8080/"
        },
        "id": "Q38E_hR-v5mh",
        "outputId": "95efa7aa-dd27-42ed-e95a-a07ca5620a60"
      },
      "source": [
        "print(VT)"
      ],
      "execution_count": 40,
      "outputs": [
        {
          "output_type": "stream",
          "text": [
            "[[-0.61962948 -0.78489445]\n",
            " [-0.78489445  0.61962948]]\n"
          ],
          "name": "stdout"
        }
      ]
    },
    {
      "cell_type": "code",
      "metadata": {
        "colab": {
          "base_uri": "https://localhost:8080/"
        },
        "id": "8Krs6i1dv69g",
        "outputId": "f43ac04f-4ba1-4a21-8e74-8fecc2a8998b"
      },
      "source": [
        "import numpy as np\r\n",
        "from sklearn.decomposition import PCA\r\n",
        "# Principal Component Analysis - PCA  \r\n",
        "X = np.array([[-1, -1], [-2, -1], [-3, -2], [1, 1], [2, 1], [3, 2]])\r\n",
        "pca = PCA(n_components=2)\r\n",
        "pca.fit(X)"
      ],
      "execution_count": 42,
      "outputs": [
        {
          "output_type": "execute_result",
          "data": {
            "text/plain": [
              "PCA(copy=True, iterated_power='auto', n_components=2, random_state=None,\n",
              "    svd_solver='auto', tol=0.0, whiten=False)"
            ]
          },
          "metadata": {
            "tags": []
          },
          "execution_count": 42
        }
      ]
    },
    {
      "cell_type": "code",
      "metadata": {
        "colab": {
          "base_uri": "https://localhost:8080/"
        },
        "id": "hmg4x55Gv-YN",
        "outputId": "0742cbc8-9879-48d3-a464-21aafc915062"
      },
      "source": [
        "print(pca.explained_variance_ratio_)"
      ],
      "execution_count": 43,
      "outputs": [
        {
          "output_type": "stream",
          "text": [
            "[0.99244289 0.00755711]\n"
          ],
          "name": "stdout"
        }
      ]
    },
    {
      "cell_type": "code",
      "metadata": {
        "colab": {
          "base_uri": "https://localhost:8080/"
        },
        "id": "4ZvcnoWOwF4F",
        "outputId": "36256f6c-c68b-4860-81fe-66dd29c50be1"
      },
      "source": [
        "print(pca.singular_values_)"
      ],
      "execution_count": 44,
      "outputs": [
        {
          "output_type": "stream",
          "text": [
            "[6.30061232 0.54980396]\n"
          ],
          "name": "stdout"
        }
      ]
    }
  ]
}