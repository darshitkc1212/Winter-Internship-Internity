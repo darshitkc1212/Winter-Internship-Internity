{
  "nbformat": 4,
  "nbformat_minor": 0,
  "metadata": {
    "colab": {
      "name": "Linear Algebra in Python Part-2.ipynb",
      "provenance": []
    },
    "kernelspec": {
      "name": "python3",
      "display_name": "Python 3"
    }
  },
  "cells": [
    {
      "cell_type": "code",
      "metadata": {
        "id": "MsB_arDNq5Lk"
      },
      "source": [
        "import numpy as np\r\n",
        "import matplotlib.pyplot as plt\r\n",
        "import scipy.linalg as la"
      ],
      "execution_count": 1,
      "outputs": []
    },
    {
      "cell_type": "code",
      "metadata": {
        "colab": {
          "base_uri": "https://localhost:8080/"
        },
        "id": "RQO4j7LsrHgs",
        "outputId": "94333141-18a4-45e2-a633-4431b5d98204"
      },
      "source": [
        "A = np.array([[1,0],[0,-2]])\r\n",
        "print(A)"
      ],
      "execution_count": 2,
      "outputs": [
        {
          "output_type": "stream",
          "text": [
            "[[ 1  0]\n",
            " [ 0 -2]]\n"
          ],
          "name": "stdout"
        }
      ]
    },
    {
      "cell_type": "code",
      "metadata": {
        "id": "mjnIBSIdrHiK"
      },
      "source": [
        "results = la.eig(A)"
      ],
      "execution_count": 3,
      "outputs": []
    },
    {
      "cell_type": "code",
      "metadata": {
        "colab": {
          "base_uri": "https://localhost:8080/"
        },
        "id": "SjxbhXRzrHlk",
        "outputId": "4234d3c7-fa6e-4a37-ffd1-d0396e4367b5"
      },
      "source": [
        "print(results[0])"
      ],
      "execution_count": 4,
      "outputs": [
        {
          "output_type": "stream",
          "text": [
            "[ 1.+0.j -2.+0.j]\n"
          ],
          "name": "stdout"
        }
      ]
    },
    {
      "cell_type": "code",
      "metadata": {
        "colab": {
          "base_uri": "https://localhost:8080/"
        },
        "id": "lCvD42dXrHny",
        "outputId": "905f760c-6661-42ed-e67c-5b4f3f40e290"
      },
      "source": [
        "print(results[1])"
      ],
      "execution_count": 5,
      "outputs": [
        {
          "output_type": "stream",
          "text": [
            "[[1. 0.]\n",
            " [0. 1.]]\n"
          ],
          "name": "stdout"
        }
      ]
    },
    {
      "cell_type": "code",
      "metadata": {
        "colab": {
          "base_uri": "https://localhost:8080/"
        },
        "id": "VlX-GwusrHqd",
        "outputId": "b0f49bb1-18e8-45fd-f624-0ac9c3879085"
      },
      "source": [
        "eigvals, eigvecs = la.eig(A)\r\n",
        "print(eigvals)"
      ],
      "execution_count": 6,
      "outputs": [
        {
          "output_type": "stream",
          "text": [
            "[ 1.+0.j -2.+0.j]\n"
          ],
          "name": "stdout"
        }
      ]
    },
    {
      "cell_type": "code",
      "metadata": {
        "colab": {
          "base_uri": "https://localhost:8080/"
        },
        "id": "I-mddkJWrHsm",
        "outputId": "ed93eea6-7e55-4baa-a6a4-a511dbe4f13e"
      },
      "source": [
        "print(eigvecs)"
      ],
      "execution_count": 7,
      "outputs": [
        {
          "output_type": "stream",
          "text": [
            "[[1. 0.]\n",
            " [0. 1.]]\n"
          ],
          "name": "stdout"
        }
      ]
    },
    {
      "cell_type": "code",
      "metadata": {
        "colab": {
          "base_uri": "https://localhost:8080/"
        },
        "id": "v1iGbm84rHu4",
        "outputId": "2132a15b-57d8-4f8f-c80e-7356351e41f1"
      },
      "source": [
        "eigvals = eigvals.real\r\n",
        "print(eigvals)"
      ],
      "execution_count": 8,
      "outputs": [
        {
          "output_type": "stream",
          "text": [
            "[ 1. -2.]\n"
          ],
          "name": "stdout"
        }
      ]
    },
    {
      "cell_type": "code",
      "metadata": {
        "colab": {
          "base_uri": "https://localhost:8080/"
        },
        "id": "4FLxQeRLrHxz",
        "outputId": "bed614f5-a5be-425d-c05d-ce3743efab3e"
      },
      "source": [
        "lambda1 = eigvals[1]\r\n",
        "print(lambda1)"
      ],
      "execution_count": 9,
      "outputs": [
        {
          "output_type": "stream",
          "text": [
            "-2.0\n"
          ],
          "name": "stdout"
        }
      ]
    },
    {
      "cell_type": "code",
      "metadata": {
        "colab": {
          "base_uri": "https://localhost:8080/"
        },
        "id": "JBGaLGDNrZu7",
        "outputId": "b2e80917-4987-4ed4-9250-6820194c63a0"
      },
      "source": [
        "v1 = eigvecs[:,1].reshape(2,1)\r\n",
        "print(v1)"
      ],
      "execution_count": 10,
      "outputs": [
        {
          "output_type": "stream",
          "text": [
            "[[0.]\n",
            " [1.]]\n"
          ],
          "name": "stdout"
        }
      ]
    },
    {
      "cell_type": "code",
      "metadata": {
        "colab": {
          "base_uri": "https://localhost:8080/"
        },
        "id": "jWVQ76SOrbEe",
        "outputId": "6d99e3ac-eb6b-4381-a68f-136844f8b086"
      },
      "source": [
        "A @ v1"
      ],
      "execution_count": 12,
      "outputs": [
        {
          "output_type": "execute_result",
          "data": {
            "text/plain": [
              "array([[ 0.],\n",
              "       [-2.]])"
            ]
          },
          "metadata": {
            "tags": []
          },
          "execution_count": 12
        }
      ]
    },
    {
      "cell_type": "code",
      "metadata": {
        "colab": {
          "base_uri": "https://localhost:8080/"
        },
        "id": "L5OCnZ2Trcwf",
        "outputId": "fe812752-5e15-4fc6-c24e-0b6950467016"
      },
      "source": [
        "lambda1 * v1"
      ],
      "execution_count": 13,
      "outputs": [
        {
          "output_type": "execute_result",
          "data": {
            "text/plain": [
              "array([[-0.],\n",
              "       [-2.]])"
            ]
          },
          "metadata": {
            "tags": []
          },
          "execution_count": 13
        }
      ]
    },
    {
      "cell_type": "code",
      "metadata": {
        "colab": {
          "base_uri": "https://localhost:8080/"
        },
        "id": "--CuDQTYrh3I",
        "outputId": "2cc589de-c505-4fd5-b85d-e931656b9995"
      },
      "source": [
        "n = 4\r\n",
        "P = np.random.randint(0,10,(n,n))\r\n",
        "print(P)"
      ],
      "execution_count": 14,
      "outputs": [
        {
          "output_type": "stream",
          "text": [
            "[[2 4 4 9]\n",
            " [1 3 6 9]\n",
            " [0 7 7 1]\n",
            " [5 9 3 0]]\n"
          ],
          "name": "stdout"
        }
      ]
    },
    {
      "cell_type": "code",
      "metadata": {
        "colab": {
          "base_uri": "https://localhost:8080/"
        },
        "id": "URYIgK5FrjhR",
        "outputId": "ee5fcfcb-8dc8-4b9d-f25f-8720afed6842"
      },
      "source": [
        "S = P @ P.T\r\n",
        "print(S)"
      ],
      "execution_count": 15,
      "outputs": [
        {
          "output_type": "stream",
          "text": [
            "[[117 119  65  58]\n",
            " [119 127  72  50]\n",
            " [ 65  72  99  84]\n",
            " [ 58  50  84 115]]\n"
          ],
          "name": "stdout"
        }
      ]
    },
    {
      "cell_type": "code",
      "metadata": {
        "colab": {
          "base_uri": "https://localhost:8080/"
        },
        "id": "SkvwCkNlrlD4",
        "outputId": "3c0d7717-d8fa-4a21-8c11-a89858c6380f"
      },
      "source": [
        "evals, evecs = la.eig(S)\r\n",
        "print(evals)"
      ],
      "execution_count": 16,
      "outputs": [
        {
          "output_type": "stream",
          "text": [
            "[341.18572196+0.j  94.55868962+0.j   0.467078  +0.j  21.78851042+0.j]\n"
          ],
          "name": "stdout"
        }
      ]
    },
    {
      "cell_type": "code",
      "metadata": {
        "colab": {
          "base_uri": "https://localhost:8080/"
        },
        "id": "FIGKxUYWrnUo",
        "outputId": "3056b75d-9c15-4774-d201-bd0f1bd72a5a"
      },
      "source": [
        "evals = evals.real\r\n",
        "print(evals)"
      ],
      "execution_count": 17,
      "outputs": [
        {
          "output_type": "stream",
          "text": [
            "[341.18572196  94.55868962   0.467078    21.78851042]\n"
          ],
          "name": "stdout"
        }
      ]
    },
    {
      "cell_type": "code",
      "metadata": {
        "colab": {
          "base_uri": "https://localhost:8080/"
        },
        "id": "evBfSQZcrpQ3",
        "outputId": "2ecb786a-ac7c-4fa4-f1d7-8550c2dbab41"
      },
      "source": [
        "print(evecs)"
      ],
      "execution_count": 18,
      "outputs": [
        {
          "output_type": "stream",
          "text": [
            "[[ 0.54043062  0.39371868  0.6623461   0.33796153]\n",
            " [ 0.55593868  0.47170978 -0.67435458 -0.11691006]\n",
            " [ 0.46030342 -0.38505637  0.24229051 -0.76233041]\n",
            " [ 0.43242074 -0.68862695 -0.21872093  0.539413  ]]\n"
          ],
          "name": "stdout"
        }
      ]
    },
    {
      "cell_type": "code",
      "metadata": {
        "colab": {
          "base_uri": "https://localhost:8080/"
        },
        "id": "HHEl2MDFrqvI",
        "outputId": "e64916eb-2514-4013-cf67-03208b8ccbf4"
      },
      "source": [
        "v1 = evecs[:,0] # First column is the first eigenvector\r\n",
        "print(v1)"
      ],
      "execution_count": 20,
      "outputs": [
        {
          "output_type": "stream",
          "text": [
            "[0.54043062 0.55593868 0.46030342 0.43242074]\n"
          ],
          "name": "stdout"
        }
      ]
    },
    {
      "cell_type": "code",
      "metadata": {
        "colab": {
          "base_uri": "https://localhost:8080/"
        },
        "id": "4ZKzgTU7rsbS",
        "outputId": "bf70fafe-e98c-4257-885f-b7c7ebad20b4"
      },
      "source": [
        "v2 = evecs[:,1] # Second column is the second eigenvector\r\n",
        "print(v2)"
      ],
      "execution_count": 21,
      "outputs": [
        {
          "output_type": "stream",
          "text": [
            "[ 0.39371868  0.47170978 -0.38505637 -0.68862695]\n"
          ],
          "name": "stdout"
        }
      ]
    },
    {
      "cell_type": "code",
      "metadata": {
        "colab": {
          "base_uri": "https://localhost:8080/"
        },
        "id": "TildzQ9FrwgH",
        "outputId": "5c79f5c8-40be-4b40-d90d-c247062ac115"
      },
      "source": [
        "v1 @ v2"
      ],
      "execution_count": 22,
      "outputs": [
        {
          "output_type": "execute_result",
          "data": {
            "text/plain": [
              "-1.9227567780970495e-16"
            ]
          },
          "metadata": {
            "tags": []
          },
          "execution_count": 22
        }
      ]
    },
    {
      "cell_type": "code",
      "metadata": {
        "colab": {
          "base_uri": "https://localhost:8080/"
        },
        "id": "PIATI-TpryL_",
        "outputId": "fb7a1e27-8a0b-4372-bb7e-b212f73021e5"
      },
      "source": [
        "P = np.array([[1,1],[1,-1]])\r\n",
        "print(P)"
      ],
      "execution_count": 23,
      "outputs": [
        {
          "output_type": "stream",
          "text": [
            "[[ 1  1]\n",
            " [ 1 -1]]\n"
          ],
          "name": "stdout"
        }
      ]
    },
    {
      "cell_type": "code",
      "metadata": {
        "colab": {
          "base_uri": "https://localhost:8080/"
        },
        "id": "o5akRVlnr3hp",
        "outputId": "8f911cba-ac69-456a-82f5-5cca0a1f121f"
      },
      "source": [
        "D = np.diag((3,1))\r\n",
        "print(D)"
      ],
      "execution_count": 24,
      "outputs": [
        {
          "output_type": "stream",
          "text": [
            "[[3 0]\n",
            " [0 1]]\n"
          ],
          "name": "stdout"
        }
      ]
    },
    {
      "cell_type": "code",
      "metadata": {
        "colab": {
          "base_uri": "https://localhost:8080/"
        },
        "id": "kAdHALjCr5Aa",
        "outputId": "8859bc80-3eb4-454b-d4a7-dbabfcf218ab"
      },
      "source": [
        "M = P @ D @ la.inv(P)\r\n",
        "print(M)"
      ],
      "execution_count": 25,
      "outputs": [
        {
          "output_type": "stream",
          "text": [
            "[[2. 1.]\n",
            " [1. 2.]]\n"
          ],
          "name": "stdout"
        }
      ]
    },
    {
      "cell_type": "code",
      "metadata": {
        "colab": {
          "base_uri": "https://localhost:8080/"
        },
        "id": "vCUZwfV0r6yR",
        "outputId": "14378c3a-eeb2-47c4-b53f-dd884884d279"
      },
      "source": [
        "evals, evecs = la.eig(M)\r\n",
        "print(evals)"
      ],
      "execution_count": 26,
      "outputs": [
        {
          "output_type": "stream",
          "text": [
            "[3.+0.j 1.+0.j]\n"
          ],
          "name": "stdout"
        }
      ]
    },
    {
      "cell_type": "code",
      "metadata": {
        "colab": {
          "base_uri": "https://localhost:8080/"
        },
        "id": "rPdsUI8rr8dz",
        "outputId": "0d6fa2c6-3687-4034-db47-3dc0927a45e6"
      },
      "source": [
        "print(evecs)"
      ],
      "execution_count": 27,
      "outputs": [
        {
          "output_type": "stream",
          "text": [
            "[[ 0.70710678 -0.70710678]\n",
            " [ 0.70710678  0.70710678]]\n"
          ],
          "name": "stdout"
        }
      ]
    },
    {
      "cell_type": "code",
      "metadata": {
        "id": "INoeARlLr-SR"
      },
      "source": [
        "Pinv = la.inv(P)"
      ],
      "execution_count": 28,
      "outputs": []
    },
    {
      "cell_type": "code",
      "metadata": {
        "id": "tE9ngqAHsBR4"
      },
      "source": [
        "k = 20"
      ],
      "execution_count": 29,
      "outputs": []
    },
    {
      "cell_type": "code",
      "metadata": {
        "colab": {
          "base_uri": "https://localhost:8080/"
        },
        "id": "IRZw0itQsCji",
        "outputId": "2f779582-2e2a-4434-b840-cfed3468cc2b"
      },
      "source": [
        "%%timeit\r\n",
        "result = M.copy()\r\n",
        "for _ in range(1,k):\r\n",
        "    result = result @ M"
      ],
      "execution_count": 30,
      "outputs": [
        {
          "output_type": "stream",
          "text": [
            "The slowest run took 22.13 times longer than the fastest. This could mean that an intermediate result is being cached.\n",
            "10000 loops, best of 3: 25.2 µs per loop\n"
          ],
          "name": "stdout"
        }
      ]
    },
    {
      "cell_type": "code",
      "metadata": {
        "colab": {
          "base_uri": "https://localhost:8080/"
        },
        "id": "xhoMbloMsEKO",
        "outputId": "8db4d139-5bce-446d-d7f2-5c380c4b9b61"
      },
      "source": [
        "%%timeit\r\n",
        "P @ D**k @ Pinv"
      ],
      "execution_count": 31,
      "outputs": [
        {
          "output_type": "stream",
          "text": [
            "The slowest run took 14.26 times longer than the fastest. This could mean that an intermediate result is being cached.\n",
            "100000 loops, best of 3: 4.36 µs per loop\n"
          ],
          "name": "stdout"
        }
      ]
    }
  ]
}
