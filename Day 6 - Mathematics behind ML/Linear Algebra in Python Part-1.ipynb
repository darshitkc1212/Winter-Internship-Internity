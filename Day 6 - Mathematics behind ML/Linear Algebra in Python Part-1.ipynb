{
  "nbformat": 4,
  "nbformat_minor": 0,
  "metadata": {
    "colab": {
      "name": "Linear Algebra with Python Part-1.ipynb",
      "provenance": [],
      "collapsed_sections": []
    },
    "kernelspec": {
      "name": "python3",
      "display_name": "Python 3"
    }
  },
  "cells": [
    {
      "cell_type": "code",
      "metadata": {
        "id": "dwPj1IdBj5ei"
      },
      "source": [
        "import numpy as np\r\n",
        "import scipy.linalg as la"
      ],
      "execution_count": 1,
      "outputs": []
    },
    {
      "cell_type": "code",
      "metadata": {
        "colab": {
          "base_uri": "https://localhost:8080/"
        },
        "id": "CuLYJUEmj6KL",
        "outputId": "c7b7df32-2d61-4a7e-8039-1f5d6bb6a4b9"
      },
      "source": [
        "a = np.array([1,3,-2,1])\r\n",
        "print(a)"
      ],
      "execution_count": 2,
      "outputs": [
        {
          "output_type": "stream",
          "text": [
            "[ 1  3 -2  1]\n"
          ],
          "name": "stdout"
        }
      ]
    },
    {
      "cell_type": "code",
      "metadata": {
        "colab": {
          "base_uri": "https://localhost:8080/"
        },
        "id": "UoI8y0Smj6Vj",
        "outputId": "3d056ef8-879b-48bb-ba10-8ebb728583c5"
      },
      "source": [
        "a.ndim"
      ],
      "execution_count": 3,
      "outputs": [
        {
          "output_type": "execute_result",
          "data": {
            "text/plain": [
              "1"
            ]
          },
          "metadata": {
            "tags": []
          },
          "execution_count": 3
        }
      ]
    },
    {
      "cell_type": "code",
      "metadata": {
        "colab": {
          "base_uri": "https://localhost:8080/"
        },
        "id": "DPdASSUnkXKf",
        "outputId": "2955f81e-471e-4534-914b-85ced6eb0c37"
      },
      "source": [
        "a.shape"
      ],
      "execution_count": 4,
      "outputs": [
        {
          "output_type": "execute_result",
          "data": {
            "text/plain": [
              "(4,)"
            ]
          },
          "metadata": {
            "tags": []
          },
          "execution_count": 4
        }
      ]
    },
    {
      "cell_type": "code",
      "metadata": {
        "colab": {
          "base_uri": "https://localhost:8080/"
        },
        "id": "nvI8jYl-kXMg",
        "outputId": "181d5572-fa1f-46b3-b31e-51584b6e6f0e"
      },
      "source": [
        "a.size"
      ],
      "execution_count": 5,
      "outputs": [
        {
          "output_type": "execute_result",
          "data": {
            "text/plain": [
              "4"
            ]
          },
          "metadata": {
            "tags": []
          },
          "execution_count": 5
        }
      ]
    },
    {
      "cell_type": "code",
      "metadata": {
        "colab": {
          "base_uri": "https://localhost:8080/"
        },
        "id": "WvZ3iRsbkXP3",
        "outputId": "ea345cbc-9ca1-48dd-d514-4ec2185f7a5d"
      },
      "source": [
        "M = np.array([[1,2],[3,7],[-1,5]])\r\n",
        "print(M)"
      ],
      "execution_count": 6,
      "outputs": [
        {
          "output_type": "stream",
          "text": [
            "[[ 1  2]\n",
            " [ 3  7]\n",
            " [-1  5]]\n"
          ],
          "name": "stdout"
        }
      ]
    },
    {
      "cell_type": "code",
      "metadata": {
        "colab": {
          "base_uri": "https://localhost:8080/"
        },
        "id": "zEbrjq6xj6Zq",
        "outputId": "b66e2b35-0999-4ab7-9872-2a96a2c3bb53"
      },
      "source": [
        "M.ndim"
      ],
      "execution_count": 7,
      "outputs": [
        {
          "output_type": "execute_result",
          "data": {
            "text/plain": [
              "2"
            ]
          },
          "metadata": {
            "tags": []
          },
          "execution_count": 7
        }
      ]
    },
    {
      "cell_type": "code",
      "metadata": {
        "colab": {
          "base_uri": "https://localhost:8080/"
        },
        "id": "ubx88M4lj6bQ",
        "outputId": "ac5f30e7-4590-470e-da0e-d26f335509df"
      },
      "source": [
        "M.shape"
      ],
      "execution_count": 8,
      "outputs": [
        {
          "output_type": "execute_result",
          "data": {
            "text/plain": [
              "(3, 2)"
            ]
          },
          "metadata": {
            "tags": []
          },
          "execution_count": 8
        }
      ]
    },
    {
      "cell_type": "code",
      "metadata": {
        "colab": {
          "base_uri": "https://localhost:8080/"
        },
        "id": "yNtnIwc7kkAA",
        "outputId": "6b4e1569-8adf-4df3-93b9-4cf13757f458"
      },
      "source": [
        "M.size"
      ],
      "execution_count": 9,
      "outputs": [
        {
          "output_type": "execute_result",
          "data": {
            "text/plain": [
              "6"
            ]
          },
          "metadata": {
            "tags": []
          },
          "execution_count": 9
        }
      ]
    },
    {
      "cell_type": "code",
      "metadata": {
        "colab": {
          "base_uri": "https://localhost:8080/"
        },
        "id": "1YsRpSfDkkB6",
        "outputId": "e1c9ce4a-a680-47b7-eeb1-904341169cc0"
      },
      "source": [
        "col = M[:,1] \r\n",
        "print(col)"
      ],
      "execution_count": 10,
      "outputs": [
        {
          "output_type": "stream",
          "text": [
            "[2 7 5]\n"
          ],
          "name": "stdout"
        }
      ]
    },
    {
      "cell_type": "code",
      "metadata": {
        "colab": {
          "base_uri": "https://localhost:8080/"
        },
        "id": "1qza3G5tkkE7",
        "outputId": "9988dcad-13a0-4c3d-ad22-9d9b3764a384"
      },
      "source": [
        "col.ndim"
      ],
      "execution_count": 11,
      "outputs": [
        {
          "output_type": "execute_result",
          "data": {
            "text/plain": [
              "1"
            ]
          },
          "metadata": {
            "tags": []
          },
          "execution_count": 11
        }
      ]
    },
    {
      "cell_type": "code",
      "metadata": {
        "colab": {
          "base_uri": "https://localhost:8080/"
        },
        "id": "IY7C20QJkkHw",
        "outputId": "c59417ed-d01e-4e95-ad40-96b937d8fec4"
      },
      "source": [
        "col.shape"
      ],
      "execution_count": 12,
      "outputs": [
        {
          "output_type": "execute_result",
          "data": {
            "text/plain": [
              "(3,)"
            ]
          },
          "metadata": {
            "tags": []
          },
          "execution_count": 12
        }
      ]
    },
    {
      "cell_type": "code",
      "metadata": {
        "colab": {
          "base_uri": "https://localhost:8080/"
        },
        "id": "GYRqDfF9j6fK",
        "outputId": "a6518bab-48cb-4586-c129-eaa194559f4a"
      },
      "source": [
        "col.size"
      ],
      "execution_count": 13,
      "outputs": [
        {
          "output_type": "execute_result",
          "data": {
            "text/plain": [
              "3"
            ]
          },
          "metadata": {
            "tags": []
          },
          "execution_count": 13
        }
      ]
    },
    {
      "cell_type": "code",
      "metadata": {
        "colab": {
          "base_uri": "https://localhost:8080/"
        },
        "id": "nurmE5bLk2K3",
        "outputId": "af8e9a1c-b649-4789-9518-3df0b647932b"
      },
      "source": [
        "print(col)"
      ],
      "execution_count": 15,
      "outputs": [
        {
          "output_type": "stream",
          "text": [
            "[2 7 5]\n"
          ],
          "name": "stdout"
        }
      ]
    },
    {
      "cell_type": "code",
      "metadata": {
        "colab": {
          "base_uri": "https://localhost:8080/"
        },
        "id": "7orX1kwKkwDd",
        "outputId": "c6c24799-a2cc-42df-aea7-3dab8fcaae8e"
      },
      "source": [
        "column = np.array([2,7,5]).reshape(3,1)\r\n",
        "print(column)"
      ],
      "execution_count": 14,
      "outputs": [
        {
          "output_type": "stream",
          "text": [
            "[[2]\n",
            " [7]\n",
            " [5]]\n"
          ],
          "name": "stdout"
        }
      ]
    },
    {
      "cell_type": "code",
      "metadata": {
        "colab": {
          "base_uri": "https://localhost:8080/"
        },
        "id": "amuhVukckwFP",
        "outputId": "b3e29050-2945-415a-ae65-a5038a45d268"
      },
      "source": [
        "print('Dimensions:', column.ndim)\r\n",
        "print('Shape:', column.shape)\r\n",
        "print('Size:', column.size)"
      ],
      "execution_count": 16,
      "outputs": [
        {
          "output_type": "stream",
          "text": [
            "Dimensions: 2\n",
            "Shape: (3, 1)\n",
            "Size: 3\n"
          ],
          "name": "stdout"
        }
      ]
    },
    {
      "cell_type": "code",
      "metadata": {
        "colab": {
          "base_uri": "https://localhost:8080/"
        },
        "id": "_4bOpDdRk3-b",
        "outputId": "2d0278a1-f5f5-4434-958b-08bd8005ca1a"
      },
      "source": [
        "print('Dimensions:',col.ndim)\r\n",
        "print('Shape:',col.shape)\r\n",
        "print('Size:',col.size)"
      ],
      "execution_count": 17,
      "outputs": [
        {
          "output_type": "stream",
          "text": [
            "Dimensions: 1\n",
            "Shape: (3,)\n",
            "Size: 3\n"
          ],
          "name": "stdout"
        }
      ]
    },
    {
      "cell_type": "code",
      "metadata": {
        "colab": {
          "base_uri": "https://localhost:8080/"
        },
        "id": "Ul9b7i5gk4AV",
        "outputId": "53e201c9-f76f-4c1e-837b-67f550aa2549"
      },
      "source": [
        "M = np.array([[3,4],[-1,5]])\r\n",
        "print(M)"
      ],
      "execution_count": 18,
      "outputs": [
        {
          "output_type": "stream",
          "text": [
            "[[ 3  4]\n",
            " [-1  5]]\n"
          ],
          "name": "stdout"
        }
      ]
    },
    {
      "cell_type": "code",
      "metadata": {
        "colab": {
          "base_uri": "https://localhost:8080/"
        },
        "id": "mgI14s8mk9JT",
        "outputId": "80cca9a8-e517-485b-b5e3-3c4e809fc925"
      },
      "source": [
        "M * M"
      ],
      "execution_count": 19,
      "outputs": [
        {
          "output_type": "execute_result",
          "data": {
            "text/plain": [
              "array([[ 9, 16],\n",
              "       [ 1, 25]])"
            ]
          },
          "metadata": {
            "tags": []
          },
          "execution_count": 19
        }
      ]
    },
    {
      "cell_type": "code",
      "metadata": {
        "colab": {
          "base_uri": "https://localhost:8080/"
        },
        "id": "AOiJWMRJk9Ln",
        "outputId": "f08c8fb6-0426-4181-e7cc-22bb1344b316"
      },
      "source": [
        "M @ M"
      ],
      "execution_count": 20,
      "outputs": [
        {
          "output_type": "execute_result",
          "data": {
            "text/plain": [
              "array([[ 5, 32],\n",
              "       [-8, 21]])"
            ]
          },
          "metadata": {
            "tags": []
          },
          "execution_count": 20
        }
      ]
    },
    {
      "cell_type": "code",
      "metadata": {
        "colab": {
          "base_uri": "https://localhost:8080/"
        },
        "id": "vqYeDpoNk9PB",
        "outputId": "ea2d9ccc-c036-4336-a2f7-fd635e8f1c3a"
      },
      "source": [
        "A = np.array([[1,3],[-1,7]])\r\n",
        "print(A)\r\n",
        "\r\n",
        "B = np.array([[5,2],[1,2]])\r\n",
        "print(B)\r\n",
        "\r\n",
        "I = np.eye(2)\r\n",
        "print(I)"
      ],
      "execution_count": 21,
      "outputs": [
        {
          "output_type": "stream",
          "text": [
            "[[ 1  3]\n",
            " [-1  7]]\n",
            "[[5 2]\n",
            " [1 2]]\n",
            "[[1. 0.]\n",
            " [0. 1.]]\n"
          ],
          "name": "stdout"
        }
      ]
    },
    {
      "cell_type": "code",
      "metadata": {
        "colab": {
          "base_uri": "https://localhost:8080/"
        },
        "id": "tX15QGlxk4Dl",
        "outputId": "b7f3bf3f-df6e-41ef-ccdc-029f5f2a66a2"
      },
      "source": [
        "2*I + 3*A - A@B"
      ],
      "execution_count": 22,
      "outputs": [
        {
          "output_type": "execute_result",
          "data": {
            "text/plain": [
              "array([[-3.,  1.],\n",
              "       [-5., 11.]])"
            ]
          },
          "metadata": {
            "tags": []
          },
          "execution_count": 22
        }
      ]
    },
    {
      "cell_type": "code",
      "metadata": {
        "id": "KH73dq3Dk4GH"
      },
      "source": [
        "from numpy.linalg import matrix_power as mpow"
      ],
      "execution_count": 23,
      "outputs": []
    },
    {
      "cell_type": "code",
      "metadata": {
        "colab": {
          "base_uri": "https://localhost:8080/"
        },
        "id": "hPxDKnFqlPxh",
        "outputId": "a32ef314-0ad2-4211-f210-aea8de626839"
      },
      "source": [
        "M = np.array([[3,4],[-1,5]])\r\n",
        "print(M)"
      ],
      "execution_count": 24,
      "outputs": [
        {
          "output_type": "stream",
          "text": [
            "[[ 3  4]\n",
            " [-1  5]]\n"
          ],
          "name": "stdout"
        }
      ]
    },
    {
      "cell_type": "code",
      "metadata": {
        "colab": {
          "base_uri": "https://localhost:8080/"
        },
        "id": "Rz63ohNYlP0v",
        "outputId": "3cdeed69-4123-4739-ebb4-b3dd5b294608"
      },
      "source": [
        "mpow(M,2)"
      ],
      "execution_count": 25,
      "outputs": [
        {
          "output_type": "execute_result",
          "data": {
            "text/plain": [
              "array([[ 5, 32],\n",
              "       [-8, 21]])"
            ]
          },
          "metadata": {
            "tags": []
          },
          "execution_count": 25
        }
      ]
    },
    {
      "cell_type": "code",
      "metadata": {
        "colab": {
          "base_uri": "https://localhost:8080/"
        },
        "id": "5GjDNnovkwIv",
        "outputId": "11571244-0992-4f97-c5f4-2364a8a76385"
      },
      "source": [
        "mpow(M,5)"
      ],
      "execution_count": 26,
      "outputs": [
        {
          "output_type": "execute_result",
          "data": {
            "text/plain": [
              "array([[-1525,  3236],\n",
              "       [ -809,    93]])"
            ]
          },
          "metadata": {
            "tags": []
          },
          "execution_count": 26
        }
      ]
    },
    {
      "cell_type": "code",
      "metadata": {
        "colab": {
          "base_uri": "https://localhost:8080/"
        },
        "id": "fgBx698ilUmb",
        "outputId": "2f1beede-8e08-4480-d2db-7f1c34c70eeb"
      },
      "source": [
        "M @ M @ M @ M @ M"
      ],
      "execution_count": 27,
      "outputs": [
        {
          "output_type": "execute_result",
          "data": {
            "text/plain": [
              "array([[-1525,  3236],\n",
              "       [ -809,    93]])"
            ]
          },
          "metadata": {
            "tags": []
          },
          "execution_count": 27
        }
      ]
    },
    {
      "cell_type": "code",
      "metadata": {
        "colab": {
          "base_uri": "https://localhost:8080/"
        },
        "id": "PyiNjFtnlWT6",
        "outputId": "f579b0ba-7b43-4453-9271-2c1e1a32f1f5"
      },
      "source": [
        "mpow(M,3)"
      ],
      "execution_count": 28,
      "outputs": [
        {
          "output_type": "execute_result",
          "data": {
            "text/plain": [
              "array([[-17, 180],\n",
              "       [-45,  73]])"
            ]
          },
          "metadata": {
            "tags": []
          },
          "execution_count": 28
        }
      ]
    },
    {
      "cell_type": "code",
      "metadata": {
        "colab": {
          "base_uri": "https://localhost:8080/"
        },
        "id": "S0xujhHQlWdg",
        "outputId": "935287c1-a798-4ed6-e60a-05f1e5128d80"
      },
      "source": [
        "mpow(M,3)"
      ],
      "execution_count": 29,
      "outputs": [
        {
          "output_type": "execute_result",
          "data": {
            "text/plain": [
              "array([[-17, 180],\n",
              "       [-45,  73]])"
            ]
          },
          "metadata": {
            "tags": []
          },
          "execution_count": 29
        }
      ]
    },
    {
      "cell_type": "code",
      "metadata": {
        "colab": {
          "base_uri": "https://localhost:8080/"
        },
        "id": "2l1s933vlbe3",
        "outputId": "123f6fb6-a60f-4f1a-a550-99288fe8b606"
      },
      "source": [
        "print(M)"
      ],
      "execution_count": 30,
      "outputs": [
        {
          "output_type": "stream",
          "text": [
            "[[ 3  4]\n",
            " [-1  5]]\n"
          ],
          "name": "stdout"
        }
      ]
    },
    {
      "cell_type": "code",
      "metadata": {
        "colab": {
          "base_uri": "https://localhost:8080/"
        },
        "id": "hnrlz2ajld6g",
        "outputId": "c993c451-3da5-4ab6-bac4-fb9fc59cf9ca"
      },
      "source": [
        "print(M.T)"
      ],
      "execution_count": 31,
      "outputs": [
        {
          "output_type": "stream",
          "text": [
            "[[ 3 -1]\n",
            " [ 4  5]]\n"
          ],
          "name": "stdout"
        }
      ]
    },
    {
      "cell_type": "code",
      "metadata": {
        "colab": {
          "base_uri": "https://localhost:8080/"
        },
        "id": "Sujk7rimlfnL",
        "outputId": "cb2ef852-993f-4070-fa4c-1eb0b98172cf"
      },
      "source": [
        "M @ M.T"
      ],
      "execution_count": 32,
      "outputs": [
        {
          "output_type": "execute_result",
          "data": {
            "text/plain": [
              "array([[25, 17],\n",
              "       [17, 26]])"
            ]
          },
          "metadata": {
            "tags": []
          },
          "execution_count": 32
        }
      ]
    },
    {
      "cell_type": "code",
      "metadata": {
        "colab": {
          "base_uri": "https://localhost:8080/"
        },
        "id": "WDTYYAeclhJD",
        "outputId": "40d7f196-c976-4a4f-9349-4c5a42279db8"
      },
      "source": [
        "A = np.array([[1,2],[3,4]])\r\n",
        "print(A)"
      ],
      "execution_count": 33,
      "outputs": [
        {
          "output_type": "stream",
          "text": [
            "[[1 2]\n",
            " [3 4]]\n"
          ],
          "name": "stdout"
        }
      ]
    },
    {
      "cell_type": "code",
      "metadata": {
        "colab": {
          "base_uri": "https://localhost:8080/"
        },
        "id": "n9D1rdZ6ljDC",
        "outputId": "d276bab4-7577-48a5-d709-08b3a9138511"
      },
      "source": [
        "la.inv(A)"
      ],
      "execution_count": 34,
      "outputs": [
        {
          "output_type": "execute_result",
          "data": {
            "text/plain": [
              "array([[-2. ,  1. ],\n",
              "       [ 1.5, -0.5]])"
            ]
          },
          "metadata": {
            "tags": []
          },
          "execution_count": 34
        }
      ]
    },
    {
      "cell_type": "code",
      "metadata": {
        "colab": {
          "base_uri": "https://localhost:8080/"
        },
        "id": "_lEOWD3slk8s",
        "outputId": "ba91398f-e480-4a3f-9d3f-7dedbd6cab4a"
      },
      "source": [
        "np.trace(A)"
      ],
      "execution_count": 35,
      "outputs": [
        {
          "output_type": "execute_result",
          "data": {
            "text/plain": [
              "5"
            ]
          },
          "metadata": {
            "tags": []
          },
          "execution_count": 35
        }
      ]
    },
    {
      "cell_type": "code",
      "metadata": {
        "colab": {
          "base_uri": "https://localhost:8080/"
        },
        "id": "uF337u1FlmVi",
        "outputId": "e110996e-fd0a-4cc5-a2be-dd4dd10d7c23"
      },
      "source": [
        "A = np.array([[1,2],[3,4]])\r\n",
        "print(A)"
      ],
      "execution_count": 36,
      "outputs": [
        {
          "output_type": "stream",
          "text": [
            "[[1 2]\n",
            " [3 4]]\n"
          ],
          "name": "stdout"
        }
      ]
    },
    {
      "cell_type": "code",
      "metadata": {
        "colab": {
          "base_uri": "https://localhost:8080/"
        },
        "id": "KVlt9Gh0loWu",
        "outputId": "4f937265-4f6e-494c-d9ce-9739652c4349"
      },
      "source": [
        "la.det(A)"
      ],
      "execution_count": 37,
      "outputs": [
        {
          "output_type": "execute_result",
          "data": {
            "text/plain": [
              "-2.0"
            ]
          },
          "metadata": {
            "tags": []
          },
          "execution_count": 37
        }
      ]
    },
    {
      "cell_type": "code",
      "metadata": {
        "colab": {
          "base_uri": "https://localhost:8080/"
        },
        "id": "SJPw9uNFlqGF",
        "outputId": "d9ed0dca-74fb-4add-8190-668eb1339cc8"
      },
      "source": [
        "print(A)"
      ],
      "execution_count": 38,
      "outputs": [
        {
          "output_type": "stream",
          "text": [
            "[[1 2]\n",
            " [3 4]]\n"
          ],
          "name": "stdout"
        }
      ]
    },
    {
      "cell_type": "code",
      "metadata": {
        "colab": {
          "base_uri": "https://localhost:8080/"
        },
        "id": "Z2caA0QQls-N",
        "outputId": "108366d0-b33b-4d4c-baff-d85e37b9e939"
      },
      "source": [
        "trace_A = np.trace(A)\r\n",
        "det_A = la.det(A)\r\n",
        "I = np.eye(2)\r\n",
        "A @ A - trace_A * A + det_A * I"
      ],
      "execution_count": 39,
      "outputs": [
        {
          "output_type": "execute_result",
          "data": {
            "text/plain": [
              "array([[0., 0.],\n",
              "       [0., 0.]])"
            ]
          },
          "metadata": {
            "tags": []
          },
          "execution_count": 39
        }
      ]
    },
    {
      "cell_type": "code",
      "metadata": {
        "colab": {
          "base_uri": "https://localhost:8080/"
        },
        "id": "iiLZjaF7lxLS",
        "outputId": "80e3d545-b351-4114-a48e-96cf32ac05a1"
      },
      "source": [
        "N = np.random.randint(0,10,[2,2])\r\n",
        "print(N)\r\n",
        "\r\n",
        "trace_N = np.trace(N)\r\n",
        "det_N = la.det(N)\r\n",
        "I = np.eye(2)\r\n",
        "N @ N - trace_N * N + det_N * I"
      ],
      "execution_count": 40,
      "outputs": [
        {
          "output_type": "stream",
          "text": [
            "[[9 0]\n",
            " [1 9]]\n"
          ],
          "name": "stdout"
        },
        {
          "output_type": "execute_result",
          "data": {
            "text/plain": [
              "array([[0., 0.],\n",
              "       [0., 0.]])"
            ]
          },
          "metadata": {
            "tags": []
          },
          "execution_count": 40
        }
      ]
    },
    {
      "cell_type": "code",
      "metadata": {
        "id": "cFnCeGVRl4QB"
      },
      "source": [
        "def proj(v,w):\r\n",
        "    '''Project vector v onto w.'''\r\n",
        "    v = np.array(v)\r\n",
        "    w = np.array(w)\r\n",
        "    return np.sum(v * w)/np.sum(w * w) * w   # or (v @ w)/(w @ w) * w"
      ],
      "execution_count": 41,
      "outputs": []
    },
    {
      "cell_type": "code",
      "metadata": {
        "colab": {
          "base_uri": "https://localhost:8080/"
        },
        "id": "Lnz_D37Bl7JJ",
        "outputId": "fc49205d-9cc3-4608-9321-ab3a76188858"
      },
      "source": [
        "proj([1,2,3],[1,1,1])"
      ],
      "execution_count": 42,
      "outputs": [
        {
          "output_type": "execute_result",
          "data": {
            "text/plain": [
              "array([2., 2., 2.])"
            ]
          },
          "metadata": {
            "tags": []
          },
          "execution_count": 42
        }
      ]
    },
    {
      "cell_type": "code",
      "metadata": {
        "id": "WcjHI2mwl7Qb"
      },
      "source": [
        "import matplotlib.pyplot as plt\r\n",
        "%matplotlib inline"
      ],
      "execution_count": null,
      "outputs": []
    },
    {
      "cell_type": "code",
      "metadata": {
        "colab": {
          "base_uri": "https://localhost:8080/"
        },
        "id": "BKNWWFqMmIpv",
        "outputId": "d0757858-33ab-42ad-9b7f-5406d8faeef1"
      },
      "source": [
        "A = np.array([[1,1,2],[-1,3,1],[0,5,2]])\r\n",
        "print(A)"
      ],
      "execution_count": 43,
      "outputs": [
        {
          "output_type": "stream",
          "text": [
            "[[ 1  1  2]\n",
            " [-1  3  1]\n",
            " [ 0  5  2]]\n"
          ],
          "name": "stdout"
        }
      ]
    },
    {
      "cell_type": "code",
      "metadata": {
        "colab": {
          "base_uri": "https://localhost:8080/"
        },
        "id": "SdZj84_GmIsh",
        "outputId": "c9a8553e-b30b-4d48-8a67-1dbf3c889fce"
      },
      "source": [
        "E1 = np.array([[1,0,3],[0,1,0],[0,0,1]])\r\n",
        "print(E1)"
      ],
      "execution_count": 44,
      "outputs": [
        {
          "output_type": "stream",
          "text": [
            "[[1 0 3]\n",
            " [0 1 0]\n",
            " [0 0 1]]\n"
          ],
          "name": "stdout"
        }
      ]
    },
    {
      "cell_type": "code",
      "metadata": {
        "colab": {
          "base_uri": "https://localhost:8080/"
        },
        "id": "ba3ci8TgmIvN",
        "outputId": "f278c985-38c6-4d19-dea2-fef7181cd392"
      },
      "source": [
        "E1 @ A"
      ],
      "execution_count": 45,
      "outputs": [
        {
          "output_type": "execute_result",
          "data": {
            "text/plain": [
              "array([[ 1, 16,  8],\n",
              "       [-1,  3,  1],\n",
              "       [ 0,  5,  2]])"
            ]
          },
          "metadata": {
            "tags": []
          },
          "execution_count": 45
        }
      ]
    },
    {
      "cell_type": "code",
      "metadata": {
        "colab": {
          "base_uri": "https://localhost:8080/"
        },
        "id": "zxhumnO7mIyM",
        "outputId": "352420fd-6551-4eb2-edf2-77edb3c8d374"
      },
      "source": [
        "E2 = np.array([[1,0,0],[0,-2,0],[0,0,1]])\r\n",
        "print(E2)"
      ],
      "execution_count": 46,
      "outputs": [
        {
          "output_type": "stream",
          "text": [
            "[[ 1  0  0]\n",
            " [ 0 -2  0]\n",
            " [ 0  0  1]]\n"
          ],
          "name": "stdout"
        }
      ]
    },
    {
      "cell_type": "code",
      "metadata": {
        "colab": {
          "base_uri": "https://localhost:8080/"
        },
        "id": "UPOUYfjwm2te",
        "outputId": "d48650be-b22a-4458-cf79-3f29e0da10de"
      },
      "source": [
        "E2 @ A"
      ],
      "execution_count": 47,
      "outputs": [
        {
          "output_type": "execute_result",
          "data": {
            "text/plain": [
              "array([[ 1,  1,  2],\n",
              "       [ 2, -6, -2],\n",
              "       [ 0,  5,  2]])"
            ]
          },
          "metadata": {
            "tags": []
          },
          "execution_count": 47
        }
      ]
    },
    {
      "cell_type": "code",
      "metadata": {
        "colab": {
          "base_uri": "https://localhost:8080/"
        },
        "id": "ML6044NCm4wg",
        "outputId": "674d5a94-62ab-4909-c0d4-77430288de1e"
      },
      "source": [
        "E3 = np.array([[1,0,0],[0,0,1],[0,1,0]])\r\n",
        "print(E3)"
      ],
      "execution_count": 48,
      "outputs": [
        {
          "output_type": "stream",
          "text": [
            "[[1 0 0]\n",
            " [0 0 1]\n",
            " [0 1 0]]\n"
          ],
          "name": "stdout"
        }
      ]
    },
    {
      "cell_type": "code",
      "metadata": {
        "colab": {
          "base_uri": "https://localhost:8080/"
        },
        "id": "VZifMvsdm7Wo",
        "outputId": "895a71a8-6d8f-4e3d-8d0c-44c4c940b205"
      },
      "source": [
        "E3 @ A"
      ],
      "execution_count": 49,
      "outputs": [
        {
          "output_type": "execute_result",
          "data": {
            "text/plain": [
              "array([[ 1,  1,  2],\n",
              "       [ 0,  5,  2],\n",
              "       [-1,  3,  1]])"
            ]
          },
          "metadata": {
            "tags": []
          },
          "execution_count": 49
        }
      ]
    },
    {
      "cell_type": "code",
      "metadata": {
        "id": "GeqMgNfCm9BC"
      },
      "source": [
        "def add_row(A,k,i,j):\r\n",
        "    \"Add k times row j to row i in matrix A.\"\r\n",
        "    n = A.shape[0]\r\n",
        "    E = np.eye(n)\r\n",
        "    if i == j:\r\n",
        "        E[i,i] = k + 1\r\n",
        "    else:\r\n",
        "        E[i,j] = k\r\n",
        "    return E @ A"
      ],
      "execution_count": 50,
      "outputs": []
    },
    {
      "cell_type": "code",
      "metadata": {
        "colab": {
          "base_uri": "https://localhost:8080/"
        },
        "id": "PT0Z2l2bnAHI",
        "outputId": "55e468e0-1f9a-4fbe-e9df-2e729755d0cd"
      },
      "source": [
        "M = np.array([[1,1],[3,2]])\r\n",
        "print(M)"
      ],
      "execution_count": 51,
      "outputs": [
        {
          "output_type": "stream",
          "text": [
            "[[1 1]\n",
            " [3 2]]\n"
          ],
          "name": "stdout"
        }
      ]
    },
    {
      "cell_type": "code",
      "metadata": {
        "colab": {
          "base_uri": "https://localhost:8080/"
        },
        "id": "2en06oJFnCX2",
        "outputId": "50e85284-50e1-467f-dd0f-fc16c7da39eb"
      },
      "source": [
        "add_row(M,2,0,1)"
      ],
      "execution_count": 52,
      "outputs": [
        {
          "output_type": "execute_result",
          "data": {
            "text/plain": [
              "array([[7., 5.],\n",
              "       [3., 2.]])"
            ]
          },
          "metadata": {
            "tags": []
          },
          "execution_count": 52
        }
      ]
    },
    {
      "cell_type": "code",
      "metadata": {
        "colab": {
          "base_uri": "https://localhost:8080/"
        },
        "id": "jaRvMzSdnEVv",
        "outputId": "fcf29897-ec71-453b-e663-6e5bcb3615b5"
      },
      "source": [
        "add_row(M,3,1,1)"
      ],
      "execution_count": 53,
      "outputs": [
        {
          "output_type": "execute_result",
          "data": {
            "text/plain": [
              "array([[ 1.,  1.],\n",
              "       [12.,  8.]])"
            ]
          },
          "metadata": {
            "tags": []
          },
          "execution_count": 53
        }
      ]
    },
    {
      "cell_type": "code",
      "metadata": {
        "id": "U9See1ZynGjn"
      },
      "source": [
        "def scale_row(A,k,i):\r\n",
        "    \"Multiply row i by k in matrix A.\"\r\n",
        "    n = A.shape[0]\r\n",
        "    E = np.eye(n)\r\n",
        "    E[i,i] = k\r\n",
        "    return E @ A"
      ],
      "execution_count": 54,
      "outputs": []
    },
    {
      "cell_type": "code",
      "metadata": {
        "colab": {
          "base_uri": "https://localhost:8080/"
        },
        "id": "TadUhSfInR9t",
        "outputId": "fba70c13-469d-474c-b1d6-8d849a3e9888"
      },
      "source": [
        "M = np.array([[3,1],[-2,7]])\r\n",
        "print(M)"
      ],
      "execution_count": 55,
      "outputs": [
        {
          "output_type": "stream",
          "text": [
            "[[ 3  1]\n",
            " [-2  7]]\n"
          ],
          "name": "stdout"
        }
      ]
    },
    {
      "cell_type": "code",
      "metadata": {
        "colab": {
          "base_uri": "https://localhost:8080/"
        },
        "id": "hfk9cTv2nTmC",
        "outputId": "54a9bfb9-43bd-492c-97d7-28d67a2e4bd6"
      },
      "source": [
        "scale_row(M,3,1)"
      ],
      "execution_count": 56,
      "outputs": [
        {
          "output_type": "execute_result",
          "data": {
            "text/plain": [
              "array([[ 3.,  1.],\n",
              "       [-6., 21.]])"
            ]
          },
          "metadata": {
            "tags": []
          },
          "execution_count": 56
        }
      ]
    },
    {
      "cell_type": "code",
      "metadata": {
        "colab": {
          "base_uri": "https://localhost:8080/"
        },
        "id": "v8BfrfOYnVrn",
        "outputId": "b9edd40e-eeba-4beb-aff3-41ecc72d0a3c"
      },
      "source": [
        "A = np.array([[1,1,1],[1,-1,0]])\r\n",
        "print(A)"
      ],
      "execution_count": 57,
      "outputs": [
        {
          "output_type": "stream",
          "text": [
            "[[ 1  1  1]\n",
            " [ 1 -1  0]]\n"
          ],
          "name": "stdout"
        }
      ]
    },
    {
      "cell_type": "code",
      "metadata": {
        "colab": {
          "base_uri": "https://localhost:8080/"
        },
        "id": "BtL8JTLSnX8p",
        "outputId": "e2752c1e-63b6-4428-a4db-75f4bd811482"
      },
      "source": [
        "scale_row(A,5,1)"
      ],
      "execution_count": 58,
      "outputs": [
        {
          "output_type": "execute_result",
          "data": {
            "text/plain": [
              "array([[ 1.,  1.,  1.],\n",
              "       [ 5., -5.,  0.]])"
            ]
          },
          "metadata": {
            "tags": []
          },
          "execution_count": 58
        }
      ]
    },
    {
      "cell_type": "code",
      "metadata": {
        "id": "cZAiGntfnaDf"
      },
      "source": [
        "def switch_rows(A,i,j):\r\n",
        "    \"Switch rows i and j in matrix A.\"\r\n",
        "    n = A.shape[0]\r\n",
        "    E = np.eye(n)\r\n",
        "    E[i,i] = 0\r\n",
        "    E[j,j] = 0\r\n",
        "    E[i,j] = 1\r\n",
        "    E[j,i] = 1\r\n",
        "    return E @ A"
      ],
      "execution_count": 59,
      "outputs": []
    },
    {
      "cell_type": "code",
      "metadata": {
        "colab": {
          "base_uri": "https://localhost:8080/"
        },
        "id": "DEdlZFIenccc",
        "outputId": "43fae8b1-ada1-4104-daa7-d7d68df374c3"
      },
      "source": [
        "A = np.array([[1,1,1],[1,-1,0]])\r\n",
        "print(A)\r\n",
        "switch_rows(A,0,1)"
      ],
      "execution_count": 60,
      "outputs": [
        {
          "output_type": "stream",
          "text": [
            "[[ 1  1  1]\n",
            " [ 1 -1  0]]\n"
          ],
          "name": "stdout"
        },
        {
          "output_type": "execute_result",
          "data": {
            "text/plain": [
              "array([[ 1., -1.,  0.],\n",
              "       [ 1.,  1.,  1.]])"
            ]
          },
          "metadata": {
            "tags": []
          },
          "execution_count": 60
        }
      ]
    },
    {
      "cell_type": "code",
      "metadata": {
        "colab": {
          "base_uri": "https://localhost:8080/"
        },
        "id": "SInI5_Hongib",
        "outputId": "67385023-8940-4461-8698-153e49041419"
      },
      "source": [
        "M = np.array([[5,4,2],[-1,2,1],[1,1,1]])\r\n",
        "print(M)\r\n",
        "\r\n",
        "A = np.hstack([M,np.eye(3)])\r\n",
        "print(A)\r\n",
        "\r\n",
        "A1 = switch_rows(A,0,2)\r\n",
        "print(A1)\r\n",
        "\r\n",
        "A2 = add_row(A1,1,1,0)\r\n",
        "print(A2)\r\n",
        "\r\n",
        "A3 = add_row(A2,-5,2,0)\r\n",
        "print(A3)\r\n",
        "\r\n",
        "A4 = switch_rows(A3,1,2)\r\n",
        "print(A4)\r\n",
        "\r\n",
        "A5 = scale_row(A4,-1,1)\r\n",
        "print(A5)\r\n",
        "\r\n",
        "A6 = add_row(A5,-3,2,1)\r\n",
        "print(A6)\r\n",
        "\r\n",
        "A7 = scale_row(A6,-1/7,2)\r\n",
        "print(A7)\r\n",
        "\r\n",
        "A8 = add_row(A7,-3,1,2)\r\n",
        "print(A8)\r\n",
        "\r\n",
        "A9 = add_row(A8,-1,0,2)\r\n",
        "print(A9)\r\n",
        "\r\n",
        "A10 = add_row(A9,-1,0,1)\r\n",
        "print(A10)\r\n"
      ],
      "execution_count": 62,
      "outputs": [
        {
          "output_type": "stream",
          "text": [
            "[[ 5  4  2]\n",
            " [-1  2  1]\n",
            " [ 1  1  1]]\n",
            "[[ 5.  4.  2.  1.  0.  0.]\n",
            " [-1.  2.  1.  0.  1.  0.]\n",
            " [ 1.  1.  1.  0.  0.  1.]]\n",
            "[[ 1.  1.  1.  0.  0.  1.]\n",
            " [-1.  2.  1.  0.  1.  0.]\n",
            " [ 5.  4.  2.  1.  0.  0.]]\n",
            "[[1. 1. 1. 0. 0. 1.]\n",
            " [0. 3. 2. 0. 1. 1.]\n",
            " [5. 4. 2. 1. 0. 0.]]\n",
            "[[ 1.  1.  1.  0.  0.  1.]\n",
            " [ 0.  3.  2.  0.  1.  1.]\n",
            " [ 0. -1. -3.  1.  0. -5.]]\n",
            "[[ 1.  1.  1.  0.  0.  1.]\n",
            " [ 0. -1. -3.  1.  0. -5.]\n",
            " [ 0.  3.  2.  0.  1.  1.]]\n",
            "[[ 1.  1.  1.  0.  0.  1.]\n",
            " [ 0.  1.  3. -1.  0.  5.]\n",
            " [ 0.  3.  2.  0.  1.  1.]]\n",
            "[[  1.   1.   1.   0.   0.   1.]\n",
            " [  0.   1.   3.  -1.   0.   5.]\n",
            " [  0.   0.  -7.   3.   1. -14.]]\n",
            "[[ 1.          1.          1.          0.          0.          1.        ]\n",
            " [ 0.          1.          3.         -1.          0.          5.        ]\n",
            " [ 0.          0.          1.         -0.42857143 -0.14285714  2.        ]]\n",
            "[[ 1.          1.          1.          0.          0.          1.        ]\n",
            " [ 0.          1.          0.          0.28571429  0.42857143 -1.        ]\n",
            " [ 0.          0.          1.         -0.42857143 -0.14285714  2.        ]]\n",
            "[[ 1.          1.          0.          0.42857143  0.14285714 -1.        ]\n",
            " [ 0.          1.          0.          0.28571429  0.42857143 -1.        ]\n",
            " [ 0.          0.          1.         -0.42857143 -0.14285714  2.        ]]\n",
            "[[ 1.          0.          0.          0.14285714 -0.28571429  0.        ]\n",
            " [ 0.          1.          0.          0.28571429  0.42857143 -1.        ]\n",
            " [ 0.          0.          1.         -0.42857143 -0.14285714  2.        ]]\n"
          ],
          "name": "stdout"
        }
      ]
    },
    {
      "cell_type": "code",
      "metadata": {
        "colab": {
          "base_uri": "https://localhost:8080/"
        },
        "id": "YmiRNw4Wn3RZ",
        "outputId": "faf5fb51-4ecb-456e-f2ba-fcd26b04b76b"
      },
      "source": [
        "Minv = A10[:,3:]\r\n",
        "print(Minv)"
      ],
      "execution_count": 64,
      "outputs": [
        {
          "output_type": "stream",
          "text": [
            "[[ 0.14285714 -0.28571429  0.        ]\n",
            " [ 0.28571429  0.42857143 -1.        ]\n",
            " [-0.42857143 -0.14285714  2.        ]]\n"
          ],
          "name": "stdout"
        }
      ]
    },
    {
      "cell_type": "code",
      "metadata": {
        "colab": {
          "base_uri": "https://localhost:8080/"
        },
        "id": "VgDWHEJZoT4N",
        "outputId": "4f20dc92-9e54-4729-a152-704265e881ec"
      },
      "source": [
        "result = Minv @ M\r\n",
        "print(result)"
      ],
      "execution_count": 65,
      "outputs": [
        {
          "output_type": "stream",
          "text": [
            "[[ 1.00000000e+00  2.22044605e-16  1.11022302e-16]\n",
            " [-4.44089210e-16  1.00000000e+00 -2.22044605e-16]\n",
            " [ 0.00000000e+00  0.00000000e+00  1.00000000e+00]]\n"
          ],
          "name": "stdout"
        }
      ]
    },
    {
      "cell_type": "code",
      "metadata": {
        "colab": {
          "base_uri": "https://localhost:8080/"
        },
        "id": "Cmu567S1oT6s",
        "outputId": "0edeb6be-e91f-42cc-8394-b6ffc2df5df3"
      },
      "source": [
        "np.round(result,15)"
      ],
      "execution_count": 66,
      "outputs": [
        {
          "output_type": "execute_result",
          "data": {
            "text/plain": [
              "array([[ 1.,  0.,  0.],\n",
              "       [-0.,  1., -0.],\n",
              "       [ 0.,  0.,  1.]])"
            ]
          },
          "metadata": {
            "tags": []
          },
          "execution_count": 66
        }
      ]
    },
    {
      "cell_type": "code",
      "metadata": {
        "colab": {
          "base_uri": "https://localhost:8080/"
        },
        "id": "nMhn5G0aoT95",
        "outputId": "51e0084d-fcae-48df-b5ea-bc6b66f432b3"
      },
      "source": [
        "A = np.array([[6,15,1],[8,7,12],[2,7,8]])\r\n",
        "print(A)"
      ],
      "execution_count": 67,
      "outputs": [
        {
          "output_type": "stream",
          "text": [
            "[[ 6 15  1]\n",
            " [ 8  7 12]\n",
            " [ 2  7  8]]\n"
          ],
          "name": "stdout"
        }
      ]
    },
    {
      "cell_type": "code",
      "metadata": {
        "colab": {
          "base_uri": "https://localhost:8080/"
        },
        "id": "8enueErXoUAR",
        "outputId": "71920e91-3fac-466b-f7a0-a6749cd95f2b"
      },
      "source": [
        "b = np.array([[2],[14],[10]])\r\n",
        "print(b)"
      ],
      "execution_count": 68,
      "outputs": [
        {
          "output_type": "stream",
          "text": [
            "[[ 2]\n",
            " [14]\n",
            " [10]]\n"
          ],
          "name": "stdout"
        }
      ]
    },
    {
      "cell_type": "code",
      "metadata": {
        "colab": {
          "base_uri": "https://localhost:8080/"
        },
        "id": "3jdEabCepBAo",
        "outputId": "d71980ad-e2ac-4fba-c87a-b5261887dcda"
      },
      "source": [
        "M = np.hstack([A,b])\r\n",
        "print(M)"
      ],
      "execution_count": 69,
      "outputs": [
        {
          "output_type": "stream",
          "text": [
            "[[ 6 15  1  2]\n",
            " [ 8  7 12 14]\n",
            " [ 2  7  8 10]]\n"
          ],
          "name": "stdout"
        }
      ]
    },
    {
      "cell_type": "code",
      "metadata": {
        "colab": {
          "base_uri": "https://localhost:8080/"
        },
        "id": "34dHZJxCpC3y",
        "outputId": "5689b30a-7b85-463e-d748-a3b2414baaa0"
      },
      "source": [
        "M1 = scale_row(M,1/6,0)\r\n",
        "print(M1)\r\n",
        "\r\n",
        "M2 = add_row(M1,-8,1,0)\r\n",
        "print(M2)\r\n",
        "\r\n",
        "M3 = add_row(M2,-2,2,0)\r\n",
        "print(M3)\r\n",
        "\r\n",
        "M4 = scale_row(M3,-1/13,1)\r\n",
        "print(M4)\r\n",
        "\r\n",
        "M5 = add_row(M4,-2,2,1)\r\n",
        "print(M5)\r\n",
        "\r\n",
        "M6 = scale_row(M5,1/M5[2,2],2)\r\n",
        "print(M6)\r\n",
        "\r\n",
        "M7 = add_row(M6,-M6[1,2],1,2)\r\n",
        "print(M7)\r\n",
        "\r\n",
        "M8 = add_row(M7,-M7[0,2],0,2)\r\n",
        "print(M8)\r\n",
        "\r\n",
        "M9 = add_row(M8,-M8[0,1],0,1)\r\n",
        "print(M9)"
      ],
      "execution_count": 71,
      "outputs": [
        {
          "output_type": "stream",
          "text": [
            "[[ 1.          2.5         0.16666667  0.33333333]\n",
            " [ 8.          7.         12.         14.        ]\n",
            " [ 2.          7.          8.         10.        ]]\n",
            "[[  1.           2.5          0.16666667   0.33333333]\n",
            " [  0.         -13.          10.66666667  11.33333333]\n",
            " [  2.           7.           8.          10.        ]]\n",
            "[[  1.           2.5          0.16666667   0.33333333]\n",
            " [  0.         -13.          10.66666667  11.33333333]\n",
            " [  0.           2.           7.66666667   9.33333333]]\n",
            "[[ 1.          2.5         0.16666667  0.33333333]\n",
            " [ 0.          1.         -0.82051282 -0.87179487]\n",
            " [ 0.          2.          7.66666667  9.33333333]]\n",
            "[[ 1.          2.5         0.16666667  0.33333333]\n",
            " [ 0.          1.         -0.82051282 -0.87179487]\n",
            " [ 0.          0.          9.30769231 11.07692308]]\n",
            "[[ 1.          2.5         0.16666667  0.33333333]\n",
            " [ 0.          1.         -0.82051282 -0.87179487]\n",
            " [ 0.          0.          1.          1.19008264]]\n",
            "[[1.         2.5        0.16666667 0.33333333]\n",
            " [0.         1.         0.         0.1046832 ]\n",
            " [0.         0.         1.         1.19008264]]\n",
            "[[1.         2.5        0.         0.13498623]\n",
            " [0.         1.         0.         0.1046832 ]\n",
            " [0.         0.         1.         1.19008264]]\n",
            "[[ 1.          0.          0.         -0.12672176]\n",
            " [ 0.          1.          0.          0.1046832 ]\n",
            " [ 0.          0.          1.          1.19008264]]\n"
          ],
          "name": "stdout"
        }
      ]
    },
    {
      "cell_type": "code",
      "metadata": {
        "colab": {
          "base_uri": "https://localhost:8080/"
        },
        "id": "GRpeJ1akpFNt",
        "outputId": "2f793f69-ddee-4dc2-e05c-3144ff01f11b"
      },
      "source": [
        "x = M9[:,3].reshape(3,1)\r\n",
        "print(x)"
      ],
      "execution_count": 72,
      "outputs": [
        {
          "output_type": "stream",
          "text": [
            "[[-0.12672176]\n",
            " [ 0.1046832 ]\n",
            " [ 1.19008264]]\n"
          ],
          "name": "stdout"
        }
      ]
    },
    {
      "cell_type": "code",
      "metadata": {
        "colab": {
          "base_uri": "https://localhost:8080/"
        },
        "id": "og6cK9zNpgvR",
        "outputId": "69f50dcc-9ac5-403b-b6e7-a913d1c1fe98"
      },
      "source": [
        "x = la.solve(A,b)\r\n",
        "print(x)"
      ],
      "execution_count": 73,
      "outputs": [
        {
          "output_type": "stream",
          "text": [
            "[[-0.12672176]\n",
            " [ 0.1046832 ]\n",
            " [ 1.19008264]]\n"
          ],
          "name": "stdout"
        }
      ]
    },
    {
      "cell_type": "code",
      "metadata": {
        "colab": {
          "base_uri": "https://localhost:8080/"
        },
        "id": "Eoef2xSEpikj",
        "outputId": "85856eb4-d282-4fc3-8b12-0ee313a9c436"
      },
      "source": [
        "A = np.array([[1,1],[1,-1]])\r\n",
        "print(A)"
      ],
      "execution_count": 74,
      "outputs": [
        {
          "output_type": "stream",
          "text": [
            "[[ 1  1]\n",
            " [ 1 -1]]\n"
          ],
          "name": "stdout"
        }
      ]
    },
    {
      "cell_type": "code",
      "metadata": {
        "colab": {
          "base_uri": "https://localhost:8080/"
        },
        "id": "r1ewRBbNpnfT",
        "outputId": "0da37ab0-503e-4474-90e1-dd77478e9146"
      },
      "source": [
        "b1 = np.array([2,0])\r\n",
        "print(b1)"
      ],
      "execution_count": 75,
      "outputs": [
        {
          "output_type": "stream",
          "text": [
            "[2 0]\n"
          ],
          "name": "stdout"
        }
      ]
    },
    {
      "cell_type": "code",
      "metadata": {
        "colab": {
          "base_uri": "https://localhost:8080/"
        },
        "id": "piwzM3p5ppFx",
        "outputId": "0aa95d01-fc73-4b19-cb8a-d16e31ba7f51"
      },
      "source": [
        "x1 = la.solve(A,b1)\r\n",
        "print(x1)"
      ],
      "execution_count": 76,
      "outputs": [
        {
          "output_type": "stream",
          "text": [
            "[1. 1.]\n"
          ],
          "name": "stdout"
        }
      ]
    },
    {
      "cell_type": "code",
      "metadata": {
        "colab": {
          "base_uri": "https://localhost:8080/"
        },
        "id": "_6TmyvKipq3N",
        "outputId": "d388a095-2821-44ea-a5df-f10f367621a7"
      },
      "source": [
        "A = np.array([[1,1],[1,-1]])\r\n",
        "b2 = np.array([2,0]).reshape(2,1)\r\n",
        "x2 = la.solve(A,b2)\r\n",
        "print(x2)"
      ],
      "execution_count": 77,
      "outputs": [
        {
          "output_type": "stream",
          "text": [
            "[[1.]\n",
            " [1.]]\n"
          ],
          "name": "stdout"
        }
      ]
    },
    {
      "cell_type": "code",
      "metadata": {
        "colab": {
          "base_uri": "https://localhost:8080/"
        },
        "id": "r7LwRFjHps8X",
        "outputId": "372b73da-a940-495d-9c92-7ceafac0ffaa"
      },
      "source": [
        "A = np.array([[1,1],[1,-1]])\r\n",
        "b3 = np.array([[2,2],[0,1]])\r\n",
        "x3 = la.solve(A,b3)\r\n",
        "print(x3)"
      ],
      "execution_count": 78,
      "outputs": [
        {
          "output_type": "stream",
          "text": [
            "[[1.  1.5]\n",
            " [1.  0.5]]\n"
          ],
          "name": "stdout"
        }
      ]
    },
    {
      "cell_type": "code",
      "metadata": {
        "colab": {
          "base_uri": "https://localhost:8080/"
        },
        "id": "-oNCJHxspvJo",
        "outputId": "f4706ab9-86c8-4442-ac27-baf2de852fbe"
      },
      "source": [
        "A = np.array([[2,1],[1,1]])\r\n",
        "print(A)\r\n",
        "\r\n",
        "b = np.array([1,-1]).reshape(2,1)\r\n",
        "print(b)"
      ],
      "execution_count": 80,
      "outputs": [
        {
          "output_type": "stream",
          "text": [
            "[[2 1]\n",
            " [1 1]]\n",
            "[[ 1]\n",
            " [-1]]\n"
          ],
          "name": "stdout"
        }
      ]
    },
    {
      "cell_type": "code",
      "metadata": {
        "colab": {
          "base_uri": "https://localhost:8080/"
        },
        "id": "wyBRAFZspxz2",
        "outputId": "1200c99f-5135-441a-d65a-f86bbc216e63"
      },
      "source": [
        "x = la.solve(A,b)\r\n",
        "print(x)"
      ],
      "execution_count": 81,
      "outputs": [
        {
          "output_type": "stream",
          "text": [
            "[[ 2.]\n",
            " [-3.]]\n"
          ],
          "name": "stdout"
        }
      ]
    },
    {
      "cell_type": "code",
      "metadata": {
        "colab": {
          "base_uri": "https://localhost:8080/"
        },
        "id": "Owhc_-X0p2Ba",
        "outputId": "08081ae4-c653-4ea6-93d6-b2bc05e0d89c"
      },
      "source": [
        "Ainv = la.inv(A)\r\n",
        "print(Ainv)"
      ],
      "execution_count": 82,
      "outputs": [
        {
          "output_type": "stream",
          "text": [
            "[[ 1. -1.]\n",
            " [-1.  2.]]\n"
          ],
          "name": "stdout"
        }
      ]
    },
    {
      "cell_type": "code",
      "metadata": {
        "colab": {
          "base_uri": "https://localhost:8080/"
        },
        "id": "loxWqHUqp4pp",
        "outputId": "e90147d5-b6d3-40bf-cca9-4b781641ddd4"
      },
      "source": [
        "x = Ainv @ b\r\n",
        "print(x)"
      ],
      "execution_count": 83,
      "outputs": [
        {
          "output_type": "stream",
          "text": [
            "[[ 2.]\n",
            " [-3.]]\n"
          ],
          "name": "stdout"
        }
      ]
    },
    {
      "cell_type": "code",
      "metadata": {
        "id": "QJ8hrk42p6pg"
      },
      "source": [
        "N = 1000\r\n",
        "A = np.random.rand(N,N)\r\n",
        "b = np.random.rand(N,1)"
      ],
      "execution_count": 84,
      "outputs": []
    },
    {
      "cell_type": "code",
      "metadata": {
        "colab": {
          "base_uri": "https://localhost:8080/"
        },
        "id": "st_ttpvzqANO",
        "outputId": "2f03a2ad-e82e-42ab-e4df-5dd303deb498"
      },
      "source": [
        "A[:3,:3]"
      ],
      "execution_count": 85,
      "outputs": [
        {
          "output_type": "execute_result",
          "data": {
            "text/plain": [
              "array([[0.40170312, 0.70506577, 0.48633674],\n",
              "       [0.03902503, 0.56613817, 0.9400331 ],\n",
              "       [0.76412985, 0.24851755, 0.58392342]])"
            ]
          },
          "metadata": {
            "tags": []
          },
          "execution_count": 85
        }
      ]
    },
    {
      "cell_type": "code",
      "metadata": {
        "colab": {
          "base_uri": "https://localhost:8080/"
        },
        "id": "uPvISV3HqCE-",
        "outputId": "2210f49c-5d49-429d-c7fd-bd6d834af61d"
      },
      "source": [
        "b[:4,:]"
      ],
      "execution_count": 86,
      "outputs": [
        {
          "output_type": "execute_result",
          "data": {
            "text/plain": [
              "array([[0.77797879],\n",
              "       [0.73689911],\n",
              "       [0.86765727],\n",
              "       [0.02648667]])"
            ]
          },
          "metadata": {
            "tags": []
          },
          "execution_count": 86
        }
      ]
    },
    {
      "cell_type": "code",
      "metadata": {
        "colab": {
          "base_uri": "https://localhost:8080/"
        },
        "id": "I8Kjq8iFqESh",
        "outputId": "e711b57c-38f0-4fe1-cbc5-8fd1e4d7866c"
      },
      "source": [
        "%%timeit\r\n",
        "x = la.solve(A,b)"
      ],
      "execution_count": 88,
      "outputs": [
        {
          "output_type": "stream",
          "text": [
            "10 loops, best of 3: 44.5 ms per loop\n"
          ],
          "name": "stdout"
        }
      ]
    },
    {
      "cell_type": "code",
      "metadata": {
        "colab": {
          "base_uri": "https://localhost:8080/"
        },
        "id": "qxZnemuEqI_3",
        "outputId": "df75dde9-6bab-484f-bb4c-f6a8ca410563"
      },
      "source": [
        "%%timeit\r\n",
        "x = la.inv(A) @ b"
      ],
      "execution_count": 89,
      "outputs": [
        {
          "output_type": "stream",
          "text": [
            "10 loops, best of 3: 146 ms per loop\n"
          ],
          "name": "stdout"
        }
      ]
    }
  ]
}