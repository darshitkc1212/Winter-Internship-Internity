{
  "nbformat": 4,
  "nbformat_minor": 0,
  "metadata": {
    "colab": {
      "name": "KNN.ipynb",
      "provenance": [],
      "collapsed_sections": []
    },
    "kernelspec": {
      "name": "python3",
      "display_name": "Python 3"
    },
    "accelerator": "GPU"
  },
  "cells": [
    {
      "cell_type": "code",
      "metadata": {
        "id": "FmzjI_pyIrzQ"
      },
      "source": [
        "import operator\r\n",
        "from operator import itemgetter"
      ],
      "execution_count": 12,
      "outputs": []
    },
    {
      "cell_type": "code",
      "metadata": {
        "colab": {
          "base_uri": "https://localhost:8080/"
        },
        "id": "L5CEEFF6IvvR",
        "outputId": "8a46abf7-5bd0-4b13-8488-22aec7ce2c2c"
      },
      "source": [
        "dic = {'red':1, 'green':8, 'blue':90, 'yellow':75}\r\n",
        "print(dic)"
      ],
      "execution_count": 3,
      "outputs": [
        {
          "output_type": "stream",
          "text": [
            "{'red': 1, 'green': 8, 'blue': 90, 'yellow': 75}\n"
          ],
          "name": "stdout"
        }
      ]
    },
    {
      "cell_type": "code",
      "metadata": {
        "colab": {
          "base_uri": "https://localhost:8080/"
        },
        "id": "Hh-e4xviI096",
        "outputId": "ca810c52-2e86-44c6-a25c-3b6061627bcd"
      },
      "source": [
        "sorted_count = sorted(dic.items(), key=operator.itemgetter(1), reverse=True)\r\n",
        "print(sorted_count)"
      ],
      "execution_count": 4,
      "outputs": [
        {
          "output_type": "stream",
          "text": [
            "[('blue', 90), ('yellow', 75), ('green', 8), ('red', 1)]\n"
          ],
          "name": "stdout"
        }
      ]
    },
    {
      "cell_type": "code",
      "metadata": {
        "id": "lWY763Vr1Lt5"
      },
      "source": [
        "import numpy as np"
      ],
      "execution_count": 10,
      "outputs": []
    },
    {
      "cell_type": "code",
      "metadata": {
        "colab": {
          "base_uri": "https://localhost:8080/"
        },
        "id": "xCD3LGov_2FT",
        "outputId": "2b268b98-78a5-44a2-f840-9d3722b95140"
      },
      "source": [
        "arr = np.array([1,2,3,4,5,6,7,8,9,10])\r\n",
        "sorted = arr.argsort()\r\n",
        "print(sorted)\r\n",
        "sorted[:3]"
      ],
      "execution_count": 6,
      "outputs": [
        {
          "output_type": "stream",
          "text": [
            "[0 1 2 3 4 5 6 7 8 9]\n"
          ],
          "name": "stdout"
        },
        {
          "output_type": "execute_result",
          "data": {
            "text/plain": [
              "array([0, 1, 2])"
            ]
          },
          "metadata": {
            "tags": []
          },
          "execution_count": 6
        }
      ]
    },
    {
      "cell_type": "code",
      "metadata": {
        "id": "UToY5MBeHzxO"
      },
      "source": [
        "def euc_dist(x1, x2):\r\n",
        "        return np.sqrt(np.sum((x1-x2)**2))\r\n",
        "class KNN:\r\n",
        "    def __init__(self, K=3):\r\n",
        "        self.K = K\r\n",
        "    def fit(self, x_train, y_train):\r\n",
        "        self.X_train = x_train\r\n",
        "        self.Y_train = y_train\r\n",
        "    def predict(self, X_test):\r\n",
        "        predictions = []\r\n",
        "        for i in range(len(X_test)):            \r\n",
        "            dist = np.array([euc_dist(X_test[i], x_t) for x_t in self.X_train])\r\n",
        "            dist_sorted = dist.argsort()[:self.K]\r\n",
        "            neigh_count = {}\r\n",
        "            for idx in dist_sorted:\r\n",
        "                if self.Y_train[idx] in neigh_count:\r\n",
        "                    neigh_count[self.Y_train[idx]] += 1\r\n",
        "                else:\r\n",
        "                    neigh_count[self.Y_train[idx]] = 1       \r\n",
        "            sorted_neigh_count = sorted(neigh_count.items(), key=operator.itemgetter(1), reverse=True)\r\n",
        "            predictions.append(sorted_neigh_count[0][0])\r\n",
        "        return predictions"
      ],
      "execution_count": 1,
      "outputs": []
    },
    {
      "cell_type": "code",
      "metadata": {
        "id": "HXju7-jwIHv5"
      },
      "source": [
        "from sklearn.datasets import load_digits"
      ],
      "execution_count": 2,
      "outputs": []
    },
    {
      "cell_type": "code",
      "metadata": {
        "colab": {
          "base_uri": "https://localhost:8080/"
        },
        "id": "3RSap8FrJIlG",
        "outputId": "2fb28b2b-1f3b-49b4-8b11-ef6187a4e19a"
      },
      "source": [
        "mnist = load_digits()\r\n",
        "print(mnist.data.shape)"
      ],
      "execution_count": 3,
      "outputs": [
        {
          "output_type": "stream",
          "text": [
            "(1797, 64)\n"
          ],
          "name": "stdout"
        }
      ]
    },
    {
      "cell_type": "code",
      "metadata": {
        "id": "pgkyL0AUJInF"
      },
      "source": [
        "from sklearn.model_selection import train_test_split"
      ],
      "execution_count": 4,
      "outputs": []
    },
    {
      "cell_type": "code",
      "metadata": {
        "id": "1B_0AoIDJqzk"
      },
      "source": [
        "X = mnist.data\r\n",
        "y = mnist.target"
      ],
      "execution_count": 5,
      "outputs": []
    },
    {
      "cell_type": "code",
      "metadata": {
        "id": "bAr9UEJrJIqb"
      },
      "source": [
        " X_train, X_test, y_train, y_test = train_test_split(X, y, test_size=0.25, random_state=123)"
      ],
      "execution_count": 6,
      "outputs": []
    },
    {
      "cell_type": "code",
      "metadata": {
        "colab": {
          "base_uri": "https://localhost:8080/"
        },
        "id": "AhO8Q4_5JkpM",
        "outputId": "b2579c17-ba6b-4b79-8397-b7041785c679"
      },
      "source": [
        "print(X_train.shape, y_train.shape)\r\n",
        "print(X_test.shape, y_test.shape)"
      ],
      "execution_count": 7,
      "outputs": [
        {
          "output_type": "stream",
          "text": [
            "(1347, 64) (1347,)\n",
            "(450, 64) (450,)\n"
          ],
          "name": "stdout"
        }
      ]
    },
    {
      "cell_type": "code",
      "metadata": {
        "colab": {
          "base_uri": "https://localhost:8080/"
        },
        "id": "QLHfcMnkSVJi",
        "outputId": "508a170d-a1c6-4bfc-b882-9747eeaa5456"
      },
      "source": [
        "print(np.unique(y_train,return_counts=True))\r\n",
        "print(np.unique(y_test,return_counts=True))"
      ],
      "execution_count": 13,
      "outputs": [
        {
          "output_type": "stream",
          "text": [
            "(array([0, 1, 2, 3, 4, 5, 6, 7, 8, 9]), array([127, 140, 136, 143, 129, 134, 133, 138, 129, 138]))\n",
            "(array([0, 1, 2, 3, 4, 5, 6, 7, 8, 9]), array([51, 42, 41, 40, 52, 48, 48, 41, 45, 42]))\n"
          ],
          "name": "stdout"
        }
      ]
    },
    {
      "cell_type": "code",
      "metadata": {
        "id": "d5WeTZu6Z18h"
      },
      "source": [
        "from sklearn.metrics import precision_recall_fscore_support\r\n",
        "from sklearn.metrics import accuracy_score"
      ],
      "execution_count": 22,
      "outputs": []
    },
    {
      "cell_type": "code",
      "metadata": {
        "colab": {
          "base_uri": "https://localhost:8080/"
        },
        "id": "3bkG90i-JzhB",
        "outputId": "9195f13f-17c2-4034-e0de-fcea07085d35"
      },
      "source": [
        "kVals = np.arange(1,100,2)\r\n",
        "accuracies = []\r\n",
        "for k in kVals:\r\n",
        "  model = KNN(K = k)\r\n",
        "  model.fit(X_train, y_train)\r\n",
        "  pred = model.predict(X_test)\r\n",
        "  acc = accuracy_score(y_test, pred)\r\n",
        "  accuracies.append(acc)\r\n",
        "  print(\"K = \"+str(k)+\"; Accuracy: \"+str(acc))"
      ],
      "execution_count": 23,
      "outputs": [
        {
          "output_type": "stream",
          "text": [
            "K = 1; Accuracy: 0.9777777777777777\n",
            "K = 3; Accuracy: 0.9755555555555555\n",
            "K = 5; Accuracy: 0.9755555555555555\n",
            "K = 7; Accuracy: 0.9755555555555555\n",
            "K = 9; Accuracy: 0.9755555555555555\n",
            "K = 11; Accuracy: 0.9733333333333334\n",
            "K = 13; Accuracy: 0.9711111111111111\n",
            "K = 15; Accuracy: 0.9688888888888889\n",
            "K = 17; Accuracy: 0.9666666666666667\n",
            "K = 19; Accuracy: 0.9666666666666667\n",
            "K = 21; Accuracy: 0.9666666666666667\n",
            "K = 23; Accuracy: 0.9644444444444444\n",
            "K = 25; Accuracy: 0.9644444444444444\n",
            "K = 27; Accuracy: 0.9666666666666667\n",
            "K = 29; Accuracy: 0.9622222222222222\n",
            "K = 31; Accuracy: 0.96\n",
            "K = 33; Accuracy: 0.96\n",
            "K = 35; Accuracy: 0.9577777777777777\n",
            "K = 37; Accuracy: 0.9577777777777777\n",
            "K = 39; Accuracy: 0.9577777777777777\n",
            "K = 41; Accuracy: 0.9555555555555556\n",
            "K = 43; Accuracy: 0.9511111111111111\n",
            "K = 45; Accuracy: 0.9488888888888889\n",
            "K = 47; Accuracy: 0.9444444444444444\n",
            "K = 49; Accuracy: 0.9444444444444444\n",
            "K = 51; Accuracy: 0.9377777777777778\n",
            "K = 53; Accuracy: 0.9355555555555556\n",
            "K = 55; Accuracy: 0.9333333333333333\n",
            "K = 57; Accuracy: 0.9333333333333333\n",
            "K = 59; Accuracy: 0.9311111111111111\n",
            "K = 61; Accuracy: 0.9333333333333333\n",
            "K = 63; Accuracy: 0.9333333333333333\n",
            "K = 65; Accuracy: 0.9311111111111111\n",
            "K = 67; Accuracy: 0.9288888888888889\n",
            "K = 69; Accuracy: 0.9266666666666666\n",
            "K = 71; Accuracy: 0.9288888888888889\n",
            "K = 73; Accuracy: 0.9311111111111111\n",
            "K = 75; Accuracy: 0.9288888888888889\n",
            "K = 77; Accuracy: 0.9266666666666666\n",
            "K = 79; Accuracy: 0.92\n",
            "K = 81; Accuracy: 0.9222222222222223\n",
            "K = 83; Accuracy: 0.9222222222222223\n",
            "K = 85; Accuracy: 0.92\n",
            "K = 87; Accuracy: 0.9177777777777778\n",
            "K = 89; Accuracy: 0.9177777777777778\n",
            "K = 91; Accuracy: 0.9111111111111111\n",
            "K = 93; Accuracy: 0.9111111111111111\n",
            "K = 95; Accuracy: 0.9088888888888889\n",
            "K = 97; Accuracy: 0.9088888888888889\n",
            "K = 99; Accuracy: 0.9066666666666666\n"
          ],
          "name": "stdout"
        }
      ]
    },
    {
      "cell_type": "code",
      "metadata": {
        "colab": {
          "base_uri": "https://localhost:8080/"
        },
        "id": "Vmkm870NWVxp",
        "outputId": "c048ccc7-d4ce-4a38-f2c6-aaa643fc9b0c"
      },
      "source": [
        "max_index = accuracies.index(max(accuracies))\r\n",
        "print(max_index)"
      ],
      "execution_count": 25,
      "outputs": [
        {
          "output_type": "stream",
          "text": [
            "0\n"
          ],
          "name": "stdout"
        }
      ]
    },
    {
      "cell_type": "code",
      "metadata": {
        "colab": {
          "base_uri": "https://localhost:8080/",
          "height": 297
        },
        "id": "xnzGO8IFa6YU",
        "outputId": "5dd8a46b-6805-44ed-c59c-b24371c16b9f"
      },
      "source": [
        "from matplotlib import pyplot as plt\r\n",
        "plt.plot(kVals, accuracies)\r\n",
        "plt.xlabel(\"K Value\")\r\n",
        "plt.ylabel(\"Accuracy\")"
      ],
      "execution_count": 28,
      "outputs": [
        {
          "output_type": "execute_result",
          "data": {
            "text/plain": [
              "Text(0, 0.5, 'Accuracy')"
            ]
          },
          "metadata": {
            "tags": []
          },
          "execution_count": 28
        },
        {
          "output_type": "display_data",
          "data": {
            "image/png": "[encoded data removed]",
            "text/plain": [
              "<Figure size 432x288 with 1 Axes>"
            ]
          },
          "metadata": {
            "tags": [],
            "needs_background": "light"
          }
        }
      ]
    },
    {
      "cell_type": "code",
      "metadata": {
        "id": "L2HgbbGWXLm4"
      },
      "source": [
        "model = KNN(K = 3)\r\n",
        "model.fit(X_train, y_train)\r\n",
        "pred = model.predict(X_train)\r\n",
        "acc = accuracy_score(y_train, pred)"
      ],
      "execution_count": 29,
      "outputs": []
    },
    {
      "cell_type": "code",
      "metadata": {
        "colab": {
          "base_uri": "https://localhost:8080/"
        },
        "id": "inooDXv8cIfL",
        "outputId": "5c98c5da-de17-4adc-d370-f1a4371208b1"
      },
      "source": [
        "acc"
      ],
      "execution_count": 30,
      "outputs": [
        {
          "output_type": "execute_result",
          "data": {
            "text/plain": [
              "0.9962880475129918"
            ]
          },
          "metadata": {
            "tags": []
          },
          "execution_count": 30
        }
      ]
    },
    {
      "cell_type": "code",
      "metadata": {
        "colab": {
          "base_uri": "https://localhost:8080/"
        },
        "id": "raAzJjxSb74f",
        "outputId": "60ef954a-3d61-4ad7-c34b-2d7b5d0d6584"
      },
      "source": [
        "precision, recall, fscore, _ = precision_recall_fscore_support(y_train, pred)\r\n",
        "print(\"Precision \\n\", precision)\r\n",
        "print(\"\\nRecall \\n\", recall)\r\n",
        "print(\"\\nF-score \\n\", fscore)"
      ],
      "execution_count": 31,
      "outputs": [
        {
          "output_type": "stream",
          "text": [
            "Precision \n",
            " [1.         0.9929078  1.         1.         1.         1.\n",
            " 0.98518519 1.         0.9921875  0.99275362]\n",
            "\n",
            "Recall \n",
            " [1.         1.         1.         1.         1.         0.99253731\n",
            " 1.         0.99275362 0.98449612 0.99275362]\n",
            "\n",
            "F-score \n",
            " [1.         0.99644128 1.         1.         1.         0.99625468\n",
            " 0.99253731 0.99636364 0.98832685 0.99275362]\n"
          ],
          "name": "stdout"
        }
      ]
    },
    {
      "cell_type": "code",
      "metadata": {
        "colab": {
          "base_uri": "https://localhost:8080/"
        },
        "id": "LYUQg7D0b8AL",
        "outputId": "8783bce5-f4f2-49ef-aee3-92594d7f84d4"
      },
      "source": [
        "model = KNN(K = 3)\r\n",
        "model.fit(X_train, y_train)\r\n",
        "pred = model.predict(X_test)\r\n",
        "acc = accuracy_score(y_test, pred)\r\n",
        "precision, recall, fscore, _ = precision_recall_fscore_support(y_test, pred)\r\n",
        "print(\"Precision \\n\", precision)\r\n",
        "print(\"\\nRecall \\n\", recall)\r\n",
        "print(\"\\nF-score \\n\", fscore)"
      ],
      "execution_count": 32,
      "outputs": [
        {
          "output_type": "stream",
          "text": [
            "Precision \n",
            " [1.         0.89361702 1.         0.93023256 0.98113208 1.\n",
            " 1.         1.         1.         0.95      ]\n",
            "\n",
            "Recall \n",
            " [1.         1.         0.97560976 1.         1.         0.95833333\n",
            " 1.         1.         0.91111111 0.9047619 ]\n",
            "\n",
            "F-score \n",
            " [1.         0.94382022 0.98765432 0.96385542 0.99047619 0.9787234\n",
            " 1.         1.         0.95348837 0.92682927]\n"
          ],
          "name": "stdout"
        }
      ]
    },
    {
      "cell_type": "code",
      "metadata": {
        "colab": {
          "base_uri": "https://localhost:8080/"
        },
        "id": "oCnxk2P-clyz",
        "outputId": "1a9274a1-ba31-4c18-8349-e4bb86eaaa1c"
      },
      "source": [
        "print(acc)"
      ],
      "execution_count": 33,
      "outputs": [
        {
          "output_type": "stream",
          "text": [
            "0.9755555555555555\n"
          ],
          "name": "stdout"
        }
      ]
    },
    {
      "cell_type": "code",
      "metadata": {
        "id": "_qAJz--BcsIu"
      },
      "source": [
        ""
      ],
      "execution_count": null,
      "outputs": []
    }
  ]
}
