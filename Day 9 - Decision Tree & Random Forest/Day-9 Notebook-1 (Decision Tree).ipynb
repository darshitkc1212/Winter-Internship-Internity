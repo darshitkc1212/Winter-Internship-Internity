{
  "nbformat": 4,
  "nbformat_minor": 0,
  "metadata": {
    "colab": {
      "name": "Decision Tree from Scratch.ipynb",
      "provenance": [],
      "collapsed_sections": []
    },
    "kernelspec": {
      "name": "python3",
      "display_name": "Python 3"
    }
  },
  "cells": [
    {
      "cell_type": "code",
      "metadata": {
        "id": "A3AMlA0iHbHR"
      },
      "source": [
        "import numpy as np\r\n",
        "from collections import Counter"
      ],
      "execution_count": null,
      "outputs": []
    },
    {
      "cell_type": "code",
      "metadata": {
        "id": "fnXy5KsvHbIr"
      },
      "source": [
        "def entropy(y):\r\n",
        "    hist = np.bincount(y)\r\n",
        "    ps = hist / len(y)\r\n",
        "    return -np.sum([p * np.log2(p) for p in ps if p > 0])"
      ],
      "execution_count": null,
      "outputs": []
    },
    {
      "cell_type": "code",
      "metadata": {
        "id": "g-MkNOrJQr6k"
      },
      "source": [
        "class Node:\r\n",
        "\r\n",
        "    def __init__(self, feature=None, threshold=None, left=None, right=None, *, value=None):\r\n",
        "        self.feature = feature\r\n",
        "        self.threshold = threshold\r\n",
        "        self.left = left\r\n",
        "        self.right = right\r\n",
        "        self.value = value\r\n",
        "\r\n",
        "    def is_leaf_node(self):\r\n",
        "        return self.value is not None"
      ],
      "execution_count": null,
      "outputs": []
    },
    {
      "cell_type": "code",
      "metadata": {
        "id": "cfYqPRj8Qr8c"
      },
      "source": [
        "class DecisionTree:\r\n",
        "\r\n",
        "    def __init__(self, min_samples_split=2, max_depth=100, n_feats=None):\r\n",
        "        self.min_samples_split = min_samples_split\r\n",
        "        self.max_depth = max_depth\r\n",
        "        self.n_feats = n_feats\r\n",
        "        self.root = None\r\n",
        "\r\n",
        "    def fit(self, X, y):\r\n",
        "        self.n_feats = X.shape[1] if not self.n_feats else min(self.n_feats, X.shape[1])\r\n",
        "        self.root = self._grow_tree(X, y)\r\n",
        "\r\n",
        "    def predict(self, X):\r\n",
        "        return np.array([self._traverse_tree(x, self.root) for x in X])\r\n",
        "\r\n",
        "    def _grow_tree(self, X, y, depth=0):\r\n",
        "        n_samples, n_features = X.shape\r\n",
        "        n_labels = len(np.unique(y))\r\n",
        "\r\n",
        "        # stopping criteria\r\n",
        "        if (depth >= self.max_depth\r\n",
        "                or n_labels == 1\r\n",
        "                or n_samples < self.min_samples_split):\r\n",
        "            leaf_value = self._most_common_label(y)\r\n",
        "            return Node(value=leaf_value)\r\n",
        "\r\n",
        "        feat_idxs = np.random.choice(n_features, self.n_feats, replace=False)\r\n",
        "\r\n",
        "        # greedily select the best split according to information gain\r\n",
        "        best_feat, best_thresh = self._best_criteria(X, y, feat_idxs)\r\n",
        "        \r\n",
        "        # grow the children that result from the split\r\n",
        "        left_idxs, right_idxs = self._split(X[:, best_feat], best_thresh)\r\n",
        "        left = self._grow_tree(X[left_idxs, :], y[left_idxs], depth+1)\r\n",
        "        right = self._grow_tree(X[right_idxs, :], y[right_idxs], depth+1)\r\n",
        "        return Node(best_feat, best_thresh, left, right)\r\n",
        "\r\n",
        "    def _best_criteria(self, X, y, feat_idxs):\r\n",
        "        best_gain = -1\r\n",
        "        split_idx, split_thresh = None, None\r\n",
        "        for feat_idx in feat_idxs:\r\n",
        "            X_column = X[:, feat_idx]\r\n",
        "            thresholds = np.unique(X_column)\r\n",
        "            for threshold in thresholds:\r\n",
        "                gain = self._information_gain(y, X_column, threshold)\r\n",
        "\r\n",
        "                if gain > best_gain:\r\n",
        "                    best_gain = gain\r\n",
        "                    split_idx = feat_idx\r\n",
        "                    split_thresh = threshold\r\n",
        "\r\n",
        "        return split_idx, split_thresh\r\n",
        "\r\n",
        "    def _information_gain(self, y, X_column, split_thresh):\r\n",
        "        # parent loss\r\n",
        "        parent_entropy = entropy(y)\r\n",
        "\r\n",
        "        # generate split\r\n",
        "        left_idxs, right_idxs = self._split(X_column, split_thresh)\r\n",
        "\r\n",
        "        if len(left_idxs) == 0 or len(right_idxs) == 0:\r\n",
        "            return 0\r\n",
        "\r\n",
        "        # compute the weighted avg. of the loss for the children\r\n",
        "        n = len(y)\r\n",
        "        n_l, n_r = len(left_idxs), len(right_idxs)\r\n",
        "        e_l, e_r = entropy(y[left_idxs]), entropy(y[right_idxs])\r\n",
        "        child_entropy = (n_l / n) * e_l + (n_r / n) * e_r\r\n",
        "\r\n",
        "        # information gain is difference in loss before vs. after split\r\n",
        "        ig = parent_entropy - child_entropy\r\n",
        "        return ig\r\n",
        "\r\n",
        "    def _split(self, X_column, split_thresh):\r\n",
        "        left_idxs = np.argwhere(X_column <= split_thresh).flatten()\r\n",
        "        right_idxs = np.argwhere(X_column > split_thresh).flatten()\r\n",
        "        return left_idxs, right_idxs\r\n",
        "\r\n",
        "    def _traverse_tree(self, x, node):\r\n",
        "        if node.is_leaf_node():\r\n",
        "            return node.value\r\n",
        "\r\n",
        "        if x[node.feature] <= node.threshold:\r\n",
        "            return self._traverse_tree(x, node.left)\r\n",
        "        return self._traverse_tree(x, node.right)\r\n",
        "\r\n",
        "    def _most_common_label(self, y):\r\n",
        "        counter = Counter(y)\r\n",
        "        most_common = counter.most_common(1)[0][0]\r\n",
        "        return most_common"
      ],
      "execution_count": null,
      "outputs": []
    },
    {
      "cell_type": "code",
      "metadata": {
        "id": "V5DdAZpCQr_g"
      },
      "source": [
        "from sklearn import datasets"
      ],
      "execution_count": null,
      "outputs": []
    },
    {
      "cell_type": "code",
      "metadata": {
        "id": "LETN3pYSQ6vk"
      },
      "source": [
        "def accuracy(y_true, y_pred):\r\n",
        "  accuracy = np.sum(y_true == y_pred)/len(y_true)\r\n",
        "  return accuracy"
      ],
      "execution_count": null,
      "outputs": []
    },
    {
      "cell_type": "code",
      "metadata": {
        "id": "XqbYz00pQ6xh"
      },
      "source": [
        "data = datasets.load_breast_cancer()"
      ],
      "execution_count": null,
      "outputs": []
    },
    {
      "cell_type": "code",
      "metadata": {
        "id": "62nYARL4Q61B"
      },
      "source": [
        "X = data.data\r\n",
        "y = data.target"
      ],
      "execution_count": null,
      "outputs": []
    },
    {
      "cell_type": "code",
      "metadata": {
        "id": "0A4kGVCPQsBI"
      },
      "source": [
        "from sklearn.model_selection import train_test_split"
      ],
      "execution_count": null,
      "outputs": []
    },
    {
      "cell_type": "code",
      "metadata": {
        "id": "2PVrwskwQsEy"
      },
      "source": [
        "X_train, X_test, y_train, y_test = train_test_split(X, y, test_size = 0.2, random_state=123)"
      ],
      "execution_count": null,
      "outputs": []
    },
    {
      "cell_type": "code",
      "metadata": {
        "id": "BNjKBQksHbMb"
      },
      "source": [
        "clf = DecisionTree(max_depth = 10)\r\n",
        "clf.fit(X_train, y_train)"
      ],
      "execution_count": null,
      "outputs": []
    },
    {
      "cell_type": "code",
      "metadata": {
        "id": "M-zIS0y4Rs_f"
      },
      "source": [
        "y_pred = clf.predict(X_train)\r\n",
        "acc = accuracy(y_train, y_pred)"
      ],
      "execution_count": null,
      "outputs": []
    },
    {
      "cell_type": "code",
      "metadata": {
        "colab": {
          "base_uri": "https://localhost:8080/"
        },
        "id": "6Y6Xc3pgRtBY",
        "outputId": "1437b73c-ca17-4d76-a385-f09379e1d413"
      },
      "source": [
        "print(acc)"
      ],
      "execution_count": null,
      "outputs": [
        {
          "output_type": "stream",
          "text": [
            "1.0\n"
          ],
          "name": "stdout"
        }
      ]
    },
    {
      "cell_type": "code",
      "metadata": {
        "id": "jrFHvoMDRtEi"
      },
      "source": [
        "y_pred = clf.predict(X_test)\r\n",
        "acc = accuracy(y_test, y_pred)"
      ],
      "execution_count": null,
      "outputs": []
    },
    {
      "cell_type": "code",
      "metadata": {
        "colab": {
          "base_uri": "https://localhost:8080/"
        },
        "id": "sIp6K_DZSKls",
        "outputId": "15f2791a-8a76-4315-b01c-4973526fe9ca"
      },
      "source": [
        "acc"
      ],
      "execution_count": null,
      "outputs": [
        {
          "output_type": "execute_result",
          "data": {
            "text/plain": [
              "0.9649122807017544"
            ]
          },
          "metadata": {
            "tags": []
          },
          "execution_count": 23
        }
      ]
    },
    {
      "cell_type": "code",
      "metadata": {
        "id": "Civ3sbv0SKos"
      },
      "source": [
        ""
      ],
      "execution_count": null,
      "outputs": []
    }
  ]
}